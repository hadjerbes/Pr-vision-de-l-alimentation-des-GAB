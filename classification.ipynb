{
 "cells": [
  {
   "cell_type": "markdown",
   "id": "c7e94f88-37ed-48fd-baa1-3ee6848d27b0",
   "metadata": {},
   "source": [
    "# clustering des gab selon les retraits hebdomadaires 49-53 en utilisant la methode KNN adaptée au cas de séries"
   ]
  },
  {
   "cell_type": "code",
   "execution_count": 2,
   "id": "53c1b77e-522e-463a-b02b-26cdde139316",
   "metadata": {},
   "outputs": [
    {
     "data": {
      "text/html": [
       "<div>\n",
       "<style scoped>\n",
       "    .dataframe tbody tr th:only-of-type {\n",
       "        vertical-align: middle;\n",
       "    }\n",
       "\n",
       "    .dataframe tbody tr th {\n",
       "        vertical-align: top;\n",
       "    }\n",
       "\n",
       "    .dataframe thead th {\n",
       "        text-align: right;\n",
       "    }\n",
       "</style>\n",
       "<table border=\"1\" class=\"dataframe\">\n",
       "  <thead>\n",
       "    <tr style=\"text-align: right;\">\n",
       "      <th></th>\n",
       "      <th>Gab_Code</th>\n",
       "      <th>nbr_semaine</th>\n",
       "      <th>montant_total_retrait</th>\n",
       "    </tr>\n",
       "  </thead>\n",
       "  <tbody>\n",
       "    <tr>\n",
       "      <th>0</th>\n",
       "      <td>800004027</td>\n",
       "      <td>1</td>\n",
       "      <td>1420000</td>\n",
       "    </tr>\n",
       "    <tr>\n",
       "      <th>1</th>\n",
       "      <td>800004027</td>\n",
       "      <td>2</td>\n",
       "      <td>7089000</td>\n",
       "    </tr>\n",
       "    <tr>\n",
       "      <th>2</th>\n",
       "      <td>800004027</td>\n",
       "      <td>3</td>\n",
       "      <td>5409000</td>\n",
       "    </tr>\n",
       "    <tr>\n",
       "      <th>3</th>\n",
       "      <td>800004027</td>\n",
       "      <td>4</td>\n",
       "      <td>6242000</td>\n",
       "    </tr>\n",
       "    <tr>\n",
       "      <th>4</th>\n",
       "      <td>800004027</td>\n",
       "      <td>5</td>\n",
       "      <td>8560000</td>\n",
       "    </tr>\n",
       "    <tr>\n",
       "      <th>...</th>\n",
       "      <td>...</td>\n",
       "      <td>...</td>\n",
       "      <td>...</td>\n",
       "    </tr>\n",
       "    <tr>\n",
       "      <th>4288</th>\n",
       "      <td>800235027</td>\n",
       "      <td>49</td>\n",
       "      <td>11297000</td>\n",
       "    </tr>\n",
       "    <tr>\n",
       "      <th>4289</th>\n",
       "      <td>800235027</td>\n",
       "      <td>50</td>\n",
       "      <td>7880000</td>\n",
       "    </tr>\n",
       "    <tr>\n",
       "      <th>4290</th>\n",
       "      <td>800235027</td>\n",
       "      <td>51</td>\n",
       "      <td>10949000</td>\n",
       "    </tr>\n",
       "    <tr>\n",
       "      <th>4291</th>\n",
       "      <td>800235027</td>\n",
       "      <td>52</td>\n",
       "      <td>14000000</td>\n",
       "    </tr>\n",
       "    <tr>\n",
       "      <th>4292</th>\n",
       "      <td>800235027</td>\n",
       "      <td>53</td>\n",
       "      <td>2996000</td>\n",
       "    </tr>\n",
       "  </tbody>\n",
       "</table>\n",
       "<p>4293 rows × 3 columns</p>\n",
       "</div>"
      ],
      "text/plain": [
       "       Gab_Code  nbr_semaine  montant_total_retrait\n",
       "0     800004027            1                1420000\n",
       "1     800004027            2                7089000\n",
       "2     800004027            3                5409000\n",
       "3     800004027            4                6242000\n",
       "4     800004027            5                8560000\n",
       "...         ...          ...                    ...\n",
       "4288  800235027           49               11297000\n",
       "4289  800235027           50                7880000\n",
       "4290  800235027           51               10949000\n",
       "4291  800235027           52               14000000\n",
       "4292  800235027           53                2996000\n",
       "\n",
       "[4293 rows x 3 columns]"
      ]
     },
     "execution_count": 2,
     "metadata": {},
     "output_type": "execute_result"
    }
   ],
   "source": [
    "import numpy as np\n",
    "import pandas as pd\n",
    "import matplotlib.pyplot as plt\n",
    "import seaborn as sns\n",
    "from sklearn.preprocessing import MinMaxScaler\n",
    "df = pd.read_csv('/Users/hadjer/Desktop/dataset_gab_semaine.csv')\n",
    "df"
   ]
  },
  {
   "cell_type": "code",
   "execution_count": 7,
   "id": "248db7ad-d51c-4c68-a059-36e9d0eae9e6",
   "metadata": {},
   "outputs": [],
   "source": [
    "# Convertir la colonne 'Gab_Code' en type string\n",
    "df['Gab_Code'] = df['Gab_Code'].astype(str)"
   ]
  },
  {
   "cell_type": "code",
   "execution_count": 8,
   "id": "efd052d6-8514-46c8-a7e3-2b457c830277",
   "metadata": {},
   "outputs": [
    {
     "name": "stdout",
     "output_type": "stream",
     "text": [
      "<class 'pandas.core.frame.DataFrame'>\n",
      "RangeIndex: 4293 entries, 0 to 4292\n",
      "Data columns (total 3 columns):\n",
      " #   Column                 Non-Null Count  Dtype \n",
      "---  ------                 --------------  ----- \n",
      " 0   Gab_Code               4293 non-null   object\n",
      " 1   nbr_semaine            4293 non-null   int64 \n",
      " 2   montant_total_retrait  4293 non-null   int64 \n",
      "dtypes: int64(2), object(1)\n",
      "memory usage: 100.7+ KB\n"
     ]
    }
   ],
   "source": [
    "df.info()"
   ]
  },
  {
   "cell_type": "code",
   "execution_count": 9,
   "id": "9715093b-a87f-4c60-a4de-820ddbffcb1a",
   "metadata": {},
   "outputs": [
    {
     "data": {
      "image/png": "[encoded data removed]",
      "text/plain": [
       "<Figure size 576x432 with 1 Axes>"
      ]
     },
     "metadata": {
      "needs_background": "light"
     },
     "output_type": "display_data"
    }
   ],
   "source": [
    "import seaborn as sns\n",
    "import matplotlib.pyplot as plt\n",
    "\n",
    "palette = 'pastel'\n",
    "plt.figure(figsize=(8, 6))\n",
    "sns.histplot(data=df, x='montant_total_retrait', kde=True,  palette =palette, color='green')\n",
    "plt.title('Histogramme avec estimation de densité - retrait')\n",
    "plt.xlabel('montant_total_retrait')\n",
    "plt.ylabel('Fréquence')\n",
    "# Modifier la couleur de la grille\n",
    "plt.grid(True, linestyle='--', alpha=0.5, color='lightgrey')\n",
    "plt.show()"
   ]
  },
  {
   "cell_type": "code",
   "execution_count": 9,
   "id": "ea9ab1e3-df0a-442d-8cc4-1c2ef2b17c90",
   "metadata": {},
   "outputs": [
    {
     "data": {
      "image/png": "[encoded data removed]",
      "text/plain": [
       "<Figure size 720x432 with 1 Axes>"
      ]
     },
     "metadata": {
      "needs_background": "light"
     },
     "output_type": "display_data"
    }
   ],
   "source": [
    "# Visualiser les outliers en utilisant un boxplot \n",
    "plt.figure(figsize=(10, 6))\n",
    "sns.boxplot(data=df, x='montant_total_retrait',color='green')\n",
    "plt.xlabel('retrait')\n",
    "plt.title(\"Boxplot des retrait\")\n",
    "plt.show()"
   ]
  },
  {
   "cell_type": "code",
   "execution_count": 10,
   "id": "c769d0ab-6361-42ae-a8d3-28fd52af06e3",
   "metadata": {},
   "outputs": [
    {
     "data": {
      "image/png": "[encoded data removed]",
      "text/plain": [
       "<Figure size 1440x576 with 1 Axes>"
      ]
     },
     "metadata": {
      "needs_background": "light"
     },
     "output_type": "display_data"
    }
   ],
   "source": [
    "import seaborn as sns\n",
    "import matplotlib.pyplot as plt\n",
    "\n",
    "# Regrouper les montants par GAB et Cluster\n",
    "gab_amounts = df.groupby(['Gab_Code'])['montant_total_retrait'].sum().reset_index()\n",
    "\n",
    "plt.figure(figsize=(20, 8))\n",
    "\n",
    "# Utiliser seaborn pour tracer le graphique à barres coloré par cluster\n",
    "sns.barplot(data=gab_amounts, x='Gab_Code', y='montant_total_retrait', dodge=False)\n",
    "\n",
    "plt.title('Histogramme du total des montants de retraits par GAB ')\n",
    "plt.xlabel('Gab_Code')\n",
    "plt.ylabel('Total Amount')\n",
    "plt.xticks(rotation=90)\n",
    "plt.show()"
   ]
  },
  {
   "cell_type": "code",
   "execution_count": 4,
   "id": "d6a6b9b3-d424-4722-91f5-0fd187a8f085",
   "metadata": {},
   "outputs": [
    {
     "data": {
      "image/png": "[encoded data removed]",
      "text/plain": [
       "<Figure size 1440x576 with 1 Axes>"
      ]
     },
     "metadata": {
      "needs_background": "light"
     },
     "output_type": "display_data"
    }
   ],
   "source": [
    "import seaborn as sns\n",
    "import matplotlib.pyplot as plt\n",
    "\n",
    "# Regrouper les montants par GAB et Cluster\n",
    "gab_amounts = df.groupby(['Gab_Code'])['montant_total_retrait'].sum().reset_index()\n",
    "# Calculer la moyenne, le 25e et le 75e percentiles\n",
    "mean_amount = gab_amounts['montant_total_retrait'].mean()\n",
    "percentile_25 = gab_amounts['montant_total_retrait'].quantile(0.25)\n",
    "percentile_75 = gab_amounts['montant_total_retrait'].quantile(0.75)\n",
    "\n",
    "plt.figure(figsize=(20, 8))\n",
    "\n",
    "# Utiliser seaborn pour tracer le graphique à barres coloré par cluster\n",
    "sns.barplot(data=gab_amounts, x='Gab_Code', y='montant_total_retrait', dodge=False)\n",
    "# Ajouter les lignes pour la moyenne, le 25e et le 75e percentiles\n",
    "plt.axhline(mean_amount, color='blue', linestyle='--', label=f'Moyenne: {mean_amount:,.0f}')\n",
    "plt.axhline(percentile_25, color='green', linestyle='--', label=f'25e percentile: {percentile_25:,.0f}')\n",
    "plt.axhline(percentile_75, color='red', linestyle='--', label=f'75e percentile: {percentile_75:,.0f}')\n",
    "plt.title('Histogramme du total des montants de retraits par GAB ')\n",
    "plt.xlabel('Gab_Code')\n",
    "plt.ylabel('Total Amount')\n",
    "plt.xticks(rotation=90)\n",
    "plt.show()"
   ]
  },
  {
   "cell_type": "code",
   "execution_count": 10,
   "id": "44443016-c4f4-4a40-b63b-a4899f6cc29c",
   "metadata": {},
   "outputs": [
    {
     "name": "stdout",
     "output_type": "stream",
     "text": [
      "['800004027', '800005027', '800006027', '800007027', '800010027', '800011027', '800017027', '800019027', '800022027', '800023027', '800026027', '800028027', '800029027', '800031027', '800033027', '800037027', '800039027', '800041027', '800042027', '800043027', '800045027', '800046027', '800047027', '800048027', '800058027', '800071027', '800072027', '800075027', '800079027', '800091027', '800112027', '800131027', '800137027', '800141027', '800145027', '800152027', '800154027', '800161027', '800165027', '800169027', '800176027', '800177027', '800179027', '800180027', '800181027', '800182027', '800186027', '800187027', '800191027', '800192027', '800196027', '800197027', '800200027', '800201027', '800202027', '800203027', '800205027', '800206027', '800208027', '800209027', '800210027', '800211027', '800213027', '800214027', '800215027', '800216027', '800217027', '800218027', '800219027', '800220027', '800221027', '800222027', '800224027', '800225027', '800226027', '800227027', '800228027', '800231027', '800232027', '800233027', '800235027']\n"
     ]
    }
   ],
   "source": [
    "# Liste de gab codes uniques\n",
    "gab_codes = df['Gab_Code'].unique().tolist()\n",
    "print(gab_codes)\n"
   ]
  },
  {
   "cell_type": "markdown",
   "id": "6c0823e8-0466-449b-8a97-2b56fc84b280",
   "metadata": {},
   "source": [
    "## creation du dataset des gab etiquétés (utilisé pour entrainer le modele de classification)"
   ]
  },
  {
   "cell_type": "code",
   "execution_count": 11,
   "id": "2dd2b2f8-0b98-4b63-ad1a-436386e3bc81",
   "metadata": {},
   "outputs": [
    {
     "data": {
      "text/html": [
       "<div>\n",
       "<style scoped>\n",
       "    .dataframe tbody tr th:only-of-type {\n",
       "        vertical-align: middle;\n",
       "    }\n",
       "\n",
       "    .dataframe tbody tr th {\n",
       "        vertical-align: top;\n",
       "    }\n",
       "\n",
       "    .dataframe thead th {\n",
       "        text-align: right;\n",
       "    }\n",
       "</style>\n",
       "<table border=\"1\" class=\"dataframe\">\n",
       "  <thead>\n",
       "    <tr style=\"text-align: right;\">\n",
       "      <th></th>\n",
       "      <th>Gab_Code</th>\n",
       "      <th>nbr_semaine</th>\n",
       "      <th>montant_total_retrait</th>\n",
       "      <th>classe</th>\n",
       "    </tr>\n",
       "  </thead>\n",
       "  <tbody>\n",
       "    <tr>\n",
       "      <th>0</th>\n",
       "      <td>800004027</td>\n",
       "      <td>1</td>\n",
       "      <td>1420000</td>\n",
       "      <td>moyen</td>\n",
       "    </tr>\n",
       "    <tr>\n",
       "      <th>1</th>\n",
       "      <td>800004027</td>\n",
       "      <td>2</td>\n",
       "      <td>7089000</td>\n",
       "      <td>moyen</td>\n",
       "    </tr>\n",
       "    <tr>\n",
       "      <th>2</th>\n",
       "      <td>800004027</td>\n",
       "      <td>3</td>\n",
       "      <td>5409000</td>\n",
       "      <td>moyen</td>\n",
       "    </tr>\n",
       "    <tr>\n",
       "      <th>3</th>\n",
       "      <td>800004027</td>\n",
       "      <td>4</td>\n",
       "      <td>6242000</td>\n",
       "      <td>moyen</td>\n",
       "    </tr>\n",
       "    <tr>\n",
       "      <th>4</th>\n",
       "      <td>800004027</td>\n",
       "      <td>5</td>\n",
       "      <td>8560000</td>\n",
       "      <td>moyen</td>\n",
       "    </tr>\n",
       "    <tr>\n",
       "      <th>...</th>\n",
       "      <td>...</td>\n",
       "      <td>...</td>\n",
       "      <td>...</td>\n",
       "      <td>...</td>\n",
       "    </tr>\n",
       "    <tr>\n",
       "      <th>4288</th>\n",
       "      <td>800235027</td>\n",
       "      <td>49</td>\n",
       "      <td>11297000</td>\n",
       "      <td>faible</td>\n",
       "    </tr>\n",
       "    <tr>\n",
       "      <th>4289</th>\n",
       "      <td>800235027</td>\n",
       "      <td>50</td>\n",
       "      <td>7880000</td>\n",
       "      <td>faible</td>\n",
       "    </tr>\n",
       "    <tr>\n",
       "      <th>4290</th>\n",
       "      <td>800235027</td>\n",
       "      <td>51</td>\n",
       "      <td>10949000</td>\n",
       "      <td>faible</td>\n",
       "    </tr>\n",
       "    <tr>\n",
       "      <th>4291</th>\n",
       "      <td>800235027</td>\n",
       "      <td>52</td>\n",
       "      <td>14000000</td>\n",
       "      <td>faible</td>\n",
       "    </tr>\n",
       "    <tr>\n",
       "      <th>4292</th>\n",
       "      <td>800235027</td>\n",
       "      <td>53</td>\n",
       "      <td>2996000</td>\n",
       "      <td>faible</td>\n",
       "    </tr>\n",
       "  </tbody>\n",
       "</table>\n",
       "<p>1325 rows × 4 columns</p>\n",
       "</div>"
      ],
      "text/plain": [
       "       Gab_Code  nbr_semaine  montant_total_retrait  classe\n",
       "0     800004027            1                1420000   moyen\n",
       "1     800004027            2                7089000   moyen\n",
       "2     800004027            3                5409000   moyen\n",
       "3     800004027            4                6242000   moyen\n",
       "4     800004027            5                8560000   moyen\n",
       "...         ...          ...                    ...     ...\n",
       "4288  800235027           49               11297000  faible\n",
       "4289  800235027           50                7880000  faible\n",
       "4290  800235027           51               10949000  faible\n",
       "4291  800235027           52               14000000  faible\n",
       "4292  800235027           53                2996000  faible\n",
       "\n",
       "[1325 rows x 4 columns]"
      ]
     },
     "execution_count": 11,
     "metadata": {},
     "output_type": "execute_result"
    }
   ],
   "source": [
    "import pandas as pd\n",
    "\n",
    "gab_code_classe_mapping = {\n",
    "    '800071027': 'tres_elevé',\n",
    "    '800219027': 'tres_elevé',\n",
    "    '800200027': 'tres_elevé',\n",
    "    '800131027': 'tres_elevé',\n",
    "    '800228027': 'tres_elevé',\n",
    "    '800029027': 'elevé',\n",
    "    '800031027': 'elevé',\n",
    "    '800019027': 'elevé',\n",
    "    '800043027': 'elevé',\n",
    "    '800039027': 'elevé',\n",
    "    '800004027': 'moyen',\n",
    "    '800033027': 'moyen',\n",
    "    '800048027': 'moyen',\n",
    "    '800203027': 'moyen',\n",
    "    '800206027': 'moyen',\n",
    "    '800179027' : 'faible',\n",
    "    '800161027' : 'faible',\n",
    "    '800213027' : 'faible',\n",
    "    '800235027' : 'faible',\n",
    "    '800169027' : 'faible',\n",
    "    '800006027' : 'tres_faible',\n",
    "    '800202027' : 'tres_faible',\n",
    "    '800210027' : 'tres_faible',\n",
    "    '800215027' : 'tres_faible',\n",
    "    '800011027' : 'tres_faible',\n",
    "}\n",
    "\n",
    "# Extraire les gab codes uniques de votre DataFrame\n",
    "gab_codes_uniques = df['Gab_Code'].unique()\n",
    "\n",
    "# Spécifier les indices des gab codes à sélectionner\n",
    "indices_a_selectionner = [25,68,52,31,76,12,13,7,19,16,0,14,23,55,57,42,37,62,80,39,2,54,60,64,5] \n",
    "\n",
    "# Sélectionner les gab codes en fonction des indices spécifiés\n",
    "gab_codes_a_selectionner = gab_codes_uniques[indices_a_selectionner]\n",
    "\n",
    "# Sélection des lignes correspondant aux gab codes à partir de votre DataFrame original\n",
    "nouveau_df = df[df['Gab_Code'].isin(gab_codes_a_selectionner)].copy()\n",
    "\n",
    "# Attribution des étiquettes (classes) en fonction des gab codes\n",
    "nouveau_df['classe'] = nouveau_df['Gab_Code'].map(gab_code_classe_mapping)\n",
    "nouveau_df\n"
   ]
  },
  {
   "cell_type": "code",
   "execution_count": 12,
   "id": "c562ea95-8052-4cfd-9167-ed1ada97bd5b",
   "metadata": {},
   "outputs": [
    {
     "data": {
      "text/plain": [
       "array(['moyen', 'tres_faible', 'elevé', 'tres_elevé', 'faible'],\n",
       "      dtype=object)"
      ]
     },
     "execution_count": 12,
     "metadata": {},
     "output_type": "execute_result"
    }
   ],
   "source": [
    "nouveau_df.classe.unique()"
   ]
  },
  {
   "cell_type": "markdown",
   "id": "47e2d695-a81b-4323-a7d4-865e55d6413a",
   "metadata": {},
   "source": [
    "### les gab restants sans etiquettes :"
   ]
  },
  {
   "cell_type": "code",
   "execution_count": 13,
   "id": "25586101-5337-4b87-b7b0-cc45f54e38da",
   "metadata": {},
   "outputs": [
    {
     "name": "stdout",
     "output_type": "stream",
     "text": [
      "     Gab_Code\n",
      "0   800005027\n",
      "1   800007027\n",
      "2   800010027\n",
      "3   800017027\n",
      "4   800022027\n",
      "5   800023027\n",
      "6   800026027\n",
      "7   800028027\n",
      "8   800037027\n",
      "9   800041027\n",
      "10  800042027\n",
      "11  800045027\n",
      "12  800046027\n",
      "13  800047027\n",
      "14  800058027\n",
      "15  800072027\n",
      "16  800075027\n",
      "17  800079027\n",
      "18  800091027\n",
      "19  800112027\n",
      "20  800137027\n",
      "21  800141027\n",
      "22  800145027\n",
      "23  800152027\n",
      "24  800154027\n",
      "25  800165027\n",
      "26  800176027\n",
      "27  800177027\n",
      "28  800180027\n",
      "29  800181027\n",
      "30  800182027\n",
      "31  800186027\n",
      "32  800187027\n",
      "33  800191027\n",
      "34  800192027\n",
      "35  800196027\n",
      "36  800197027\n",
      "37  800201027\n",
      "38  800205027\n",
      "39  800208027\n",
      "40  800209027\n",
      "41  800211027\n",
      "42  800214027\n",
      "43  800216027\n",
      "44  800217027\n",
      "45  800218027\n",
      "46  800220027\n",
      "47  800221027\n",
      "48  800222027\n",
      "49  800224027\n",
      "50  800225027\n",
      "51  800226027\n",
      "52  800227027\n",
      "53  800231027\n",
      "54  800232027\n",
      "55  800233027\n"
     ]
    }
   ],
   "source": [
    "# Liste des gab codes utilisés pour l'entraînement\n",
    "gab_codes_utilises = nouveau_df['Gab_Code'].unique()\n",
    "\n",
    "# Gab codes restants\n",
    "gab_codes_restants = df[~df['Gab_Code'].isin(gab_codes_utilises)]['Gab_Code'].unique()\n",
    "\n",
    "# Créer une nouvelle DataFrame pour les gab codes restants\n",
    "gab_codes_restants_df = pd.DataFrame({'Gab_Code': gab_codes_restants})\n",
    "\n",
    "# Afficher la nouvelle DataFrame\n",
    "print(gab_codes_restants_df)\n"
   ]
  },
  {
   "cell_type": "markdown",
   "id": "208d5f4e-76c0-4040-a699-6f15c81c54a5",
   "metadata": {},
   "source": [
    "## le dataframe contenant les series de gab sans etiquettes (les gab a prédire):"
   ]
  },
  {
   "cell_type": "code",
   "execution_count": 14,
   "id": "63371d4c-bd48-40aa-8e35-9c5a3b476e4d",
   "metadata": {},
   "outputs": [
    {
     "data": {
      "text/html": [
       "<div>\n",
       "<style scoped>\n",
       "    .dataframe tbody tr th:only-of-type {\n",
       "        vertical-align: middle;\n",
       "    }\n",
       "\n",
       "    .dataframe tbody tr th {\n",
       "        vertical-align: top;\n",
       "    }\n",
       "\n",
       "    .dataframe thead th {\n",
       "        text-align: right;\n",
       "    }\n",
       "</style>\n",
       "<table border=\"1\" class=\"dataframe\">\n",
       "  <thead>\n",
       "    <tr style=\"text-align: right;\">\n",
       "      <th></th>\n",
       "      <th>Gab_Code</th>\n",
       "      <th>nbr_semaine</th>\n",
       "      <th>montant_total_retrait</th>\n",
       "    </tr>\n",
       "  </thead>\n",
       "  <tbody>\n",
       "    <tr>\n",
       "      <th>53</th>\n",
       "      <td>800005027</td>\n",
       "      <td>1</td>\n",
       "      <td>7241000</td>\n",
       "    </tr>\n",
       "    <tr>\n",
       "      <th>54</th>\n",
       "      <td>800005027</td>\n",
       "      <td>2</td>\n",
       "      <td>10338000</td>\n",
       "    </tr>\n",
       "    <tr>\n",
       "      <th>55</th>\n",
       "      <td>800005027</td>\n",
       "      <td>3</td>\n",
       "      <td>15256000</td>\n",
       "    </tr>\n",
       "    <tr>\n",
       "      <th>56</th>\n",
       "      <td>800005027</td>\n",
       "      <td>4</td>\n",
       "      <td>15692000</td>\n",
       "    </tr>\n",
       "    <tr>\n",
       "      <th>57</th>\n",
       "      <td>800005027</td>\n",
       "      <td>5</td>\n",
       "      <td>14172000</td>\n",
       "    </tr>\n",
       "    <tr>\n",
       "      <th>...</th>\n",
       "      <td>...</td>\n",
       "      <td>...</td>\n",
       "      <td>...</td>\n",
       "    </tr>\n",
       "    <tr>\n",
       "      <th>4235</th>\n",
       "      <td>800233027</td>\n",
       "      <td>49</td>\n",
       "      <td>11833000</td>\n",
       "    </tr>\n",
       "    <tr>\n",
       "      <th>4236</th>\n",
       "      <td>800233027</td>\n",
       "      <td>50</td>\n",
       "      <td>6252000</td>\n",
       "    </tr>\n",
       "    <tr>\n",
       "      <th>4237</th>\n",
       "      <td>800233027</td>\n",
       "      <td>51</td>\n",
       "      <td>6367000</td>\n",
       "    </tr>\n",
       "    <tr>\n",
       "      <th>4238</th>\n",
       "      <td>800233027</td>\n",
       "      <td>52</td>\n",
       "      <td>8817000</td>\n",
       "    </tr>\n",
       "    <tr>\n",
       "      <th>4239</th>\n",
       "      <td>800233027</td>\n",
       "      <td>53</td>\n",
       "      <td>519000</td>\n",
       "    </tr>\n",
       "  </tbody>\n",
       "</table>\n",
       "<p>2968 rows × 3 columns</p>\n",
       "</div>"
      ],
      "text/plain": [
       "       Gab_Code  nbr_semaine  montant_total_retrait\n",
       "53    800005027            1                7241000\n",
       "54    800005027            2               10338000\n",
       "55    800005027            3               15256000\n",
       "56    800005027            4               15692000\n",
       "57    800005027            5               14172000\n",
       "...         ...          ...                    ...\n",
       "4235  800233027           49               11833000\n",
       "4236  800233027           50                6252000\n",
       "4237  800233027           51                6367000\n",
       "4238  800233027           52                8817000\n",
       "4239  800233027           53                 519000\n",
       "\n",
       "[2968 rows x 3 columns]"
      ]
     },
     "execution_count": 14,
     "metadata": {},
     "output_type": "execute_result"
    }
   ],
   "source": [
    "# Liste des gab codes utilisés pour l'entraînement\n",
    "gab_codes_utilises = nouveau_df['Gab_Code'].unique()\n",
    "\n",
    "# Gab codes restants\n",
    "gab_codes_restants = df[~df['Gab_Code'].isin(gab_codes_utilises)]\n",
    "\n",
    "# Créer une nouvelle DataFrame pour les gab codes restants avec les retraits associés\n",
    "gab_codes_restants_df = gab_codes_restants[['Gab_Code','nbr_semaine', 'montant_total_retrait']]\n",
    "\n",
    "gab_codes_restants_df\n"
   ]
  },
  {
   "cell_type": "markdown",
   "id": "fbe589e5-23dc-4b6c-8615-03c60a158f6c",
   "metadata": {},
   "source": [
    "## création du modele KNN pour faire la classification"
   ]
  },
  {
   "cell_type": "markdown",
   "id": "41dcfeeb-cf74-4ac3-add4-d76aa5d27949",
   "metadata": {},
   "source": [
    "#### etape 1):normalisation des donnees \n",
    "j'ai utilisé la methode 'robustscaler' car elle est appropriée pour les distributions asymetriques et moins sensible aux valeurs aberrantes que la normalisation standard. elle utilise la mediane et l'ecart interquantile.\n",
    " "
   ]
  },
  {
   "cell_type": "code",
   "execution_count": 15,
   "id": "aa7a3de4-3da7-49e7-bd50-a98ce68c230e",
   "metadata": {},
   "outputs": [
    {
     "data": {
      "text/html": [
       "<div>\n",
       "<style scoped>\n",
       "    .dataframe tbody tr th:only-of-type {\n",
       "        vertical-align: middle;\n",
       "    }\n",
       "\n",
       "    .dataframe tbody tr th {\n",
       "        vertical-align: top;\n",
       "    }\n",
       "\n",
       "    .dataframe thead th {\n",
       "        text-align: right;\n",
       "    }\n",
       "</style>\n",
       "<table border=\"1\" class=\"dataframe\">\n",
       "  <thead>\n",
       "    <tr style=\"text-align: right;\">\n",
       "      <th></th>\n",
       "      <th>Gab_Code</th>\n",
       "      <th>nbr_semaine</th>\n",
       "      <th>montant_total_retrait</th>\n",
       "      <th>classe</th>\n",
       "      <th>montant_total_retrait_normalized</th>\n",
       "    </tr>\n",
       "  </thead>\n",
       "  <tbody>\n",
       "    <tr>\n",
       "      <th>0</th>\n",
       "      <td>800004027</td>\n",
       "      <td>1</td>\n",
       "      <td>1420000</td>\n",
       "      <td>moyen</td>\n",
       "      <td>-0.530928</td>\n",
       "    </tr>\n",
       "    <tr>\n",
       "      <th>1</th>\n",
       "      <td>800004027</td>\n",
       "      <td>2</td>\n",
       "      <td>7089000</td>\n",
       "      <td>moyen</td>\n",
       "      <td>-0.081364</td>\n",
       "    </tr>\n",
       "    <tr>\n",
       "      <th>2</th>\n",
       "      <td>800004027</td>\n",
       "      <td>3</td>\n",
       "      <td>5409000</td>\n",
       "      <td>moyen</td>\n",
       "      <td>-0.214592</td>\n",
       "    </tr>\n",
       "    <tr>\n",
       "      <th>3</th>\n",
       "      <td>800004027</td>\n",
       "      <td>4</td>\n",
       "      <td>6242000</td>\n",
       "      <td>moyen</td>\n",
       "      <td>-0.148533</td>\n",
       "    </tr>\n",
       "    <tr>\n",
       "      <th>4</th>\n",
       "      <td>800004027</td>\n",
       "      <td>5</td>\n",
       "      <td>8560000</td>\n",
       "      <td>moyen</td>\n",
       "      <td>0.035289</td>\n",
       "    </tr>\n",
       "    <tr>\n",
       "      <th>...</th>\n",
       "      <td>...</td>\n",
       "      <td>...</td>\n",
       "      <td>...</td>\n",
       "      <td>...</td>\n",
       "      <td>...</td>\n",
       "    </tr>\n",
       "    <tr>\n",
       "      <th>4288</th>\n",
       "      <td>800235027</td>\n",
       "      <td>49</td>\n",
       "      <td>11297000</td>\n",
       "      <td>faible</td>\n",
       "      <td>0.252339</td>\n",
       "    </tr>\n",
       "    <tr>\n",
       "      <th>4289</th>\n",
       "      <td>800235027</td>\n",
       "      <td>50</td>\n",
       "      <td>7880000</td>\n",
       "      <td>faible</td>\n",
       "      <td>-0.018636</td>\n",
       "    </tr>\n",
       "    <tr>\n",
       "      <th>4290</th>\n",
       "      <td>800235027</td>\n",
       "      <td>51</td>\n",
       "      <td>10949000</td>\n",
       "      <td>faible</td>\n",
       "      <td>0.224742</td>\n",
       "    </tr>\n",
       "    <tr>\n",
       "      <th>4291</th>\n",
       "      <td>800235027</td>\n",
       "      <td>52</td>\n",
       "      <td>14000000</td>\n",
       "      <td>faible</td>\n",
       "      <td>0.466693</td>\n",
       "    </tr>\n",
       "    <tr>\n",
       "      <th>4292</th>\n",
       "      <td>800235027</td>\n",
       "      <td>53</td>\n",
       "      <td>2996000</td>\n",
       "      <td>faible</td>\n",
       "      <td>-0.405948</td>\n",
       "    </tr>\n",
       "  </tbody>\n",
       "</table>\n",
       "<p>1325 rows × 5 columns</p>\n",
       "</div>"
      ],
      "text/plain": [
       "       Gab_Code  nbr_semaine  montant_total_retrait  classe  \\\n",
       "0     800004027            1                1420000   moyen   \n",
       "1     800004027            2                7089000   moyen   \n",
       "2     800004027            3                5409000   moyen   \n",
       "3     800004027            4                6242000   moyen   \n",
       "4     800004027            5                8560000   moyen   \n",
       "...         ...          ...                    ...     ...   \n",
       "4288  800235027           49               11297000  faible   \n",
       "4289  800235027           50                7880000  faible   \n",
       "4290  800235027           51               10949000  faible   \n",
       "4291  800235027           52               14000000  faible   \n",
       "4292  800235027           53                2996000  faible   \n",
       "\n",
       "      montant_total_retrait_normalized  \n",
       "0                            -0.530928  \n",
       "1                            -0.081364  \n",
       "2                            -0.214592  \n",
       "3                            -0.148533  \n",
       "4                             0.035289  \n",
       "...                                ...  \n",
       "4288                          0.252339  \n",
       "4289                         -0.018636  \n",
       "4290                          0.224742  \n",
       "4291                          0.466693  \n",
       "4292                         -0.405948  \n",
       "\n",
       "[1325 rows x 5 columns]"
      ]
     },
     "execution_count": 15,
     "metadata": {},
     "output_type": "execute_result"
    }
   ],
   "source": [
    "from sklearn.preprocessing import RobustScaler\n",
    "\n",
    "# Sélectionner la colonne à normaliser (montant_total_retrait)\n",
    "montant_retrait = nouveau_df[['montant_total_retrait']]\n",
    "\n",
    "# Initialiser RobustScaler\n",
    "scaler = RobustScaler()\n",
    "\n",
    "# Normaliser la colonne montant_total_retrait\n",
    "montant_retrait_normalized = scaler.fit_transform(montant_retrait)\n",
    "\n",
    "# Créer une nouvelle colonne pour les valeurs normalisées\n",
    "nouveau_df['montant_total_retrait_normalized'] = montant_retrait_normalized\n",
    "nouveau_df\n",
    "\n",
    "\n"
   ]
  },
  {
   "cell_type": "markdown",
   "id": "533fe8b8-a82f-4626-b66d-2b66576ca826",
   "metadata": {},
   "source": [
    "#### diviser lensemble des gabs en ensemble d'entrainement (80%) et ensemble de test (20%)"
   ]
  },
  {
   "cell_type": "code",
   "execution_count": 16,
   "id": "3d875983-17c0-4f7b-9a59-f1c2908bc711",
   "metadata": {},
   "outputs": [],
   "source": [
    "from sklearn.model_selection import train_test_split\n",
    "\n",
    "# Obtenir les gab codes uniques\n",
    "gab_codes_uniques = nouveau_df['Gab_Code'].unique()\n",
    "\n",
    "# Diviser les gab codes en ensembles d'entraînement et de test\n",
    "gab_codes_train, gab_codes_test = train_test_split(gab_codes_uniques, test_size=0.2, random_state=42)\n",
    "\n",
    "# Sélectionner les séries temporelles correspondant aux gab codes d'entraînement et de test\n",
    "train_df = nouveau_df[nouveau_df['Gab_Code'].isin(gab_codes_train)]\n",
    "test_df = nouveau_df[nouveau_df['Gab_Code'].isin(gab_codes_test)]\n"
   ]
  },
  {
   "cell_type": "code",
   "execution_count": 17,
   "id": "8d13dd8a-a273-410a-a75b-7f035ee0fd52",
   "metadata": {},
   "outputs": [
    {
     "data": {
      "text/plain": [
       "array(['800006027', '800011027', '800019027', '800029027', '800031027',\n",
       "       '800033027', '800039027', '800048027', '800071027', '800161027',\n",
       "       '800169027', '800179027', '800200027', '800203027', '800206027',\n",
       "       '800210027', '800213027', '800215027', '800219027', '800235027'],\n",
       "      dtype=object)"
      ]
     },
     "execution_count": 17,
     "metadata": {},
     "output_type": "execute_result"
    }
   ],
   "source": [
    "train_df['Gab_Code'].unique()"
   ]
  },
  {
   "cell_type": "code",
   "execution_count": 18,
   "id": "825cb2b0-ee64-4964-9fe2-6a3dfa8cbf25",
   "metadata": {},
   "outputs": [
    {
     "data": {
      "text/plain": [
       "array(['800004027', '800043027', '800131027', '800202027', '800228027'],\n",
       "      dtype=object)"
      ]
     },
     "execution_count": 18,
     "metadata": {},
     "output_type": "execute_result"
    }
   ],
   "source": [
    "test_df['Gab_Code'].unique()"
   ]
  },
  {
   "cell_type": "code",
   "execution_count": 19,
   "id": "94e7c608-bb86-4609-8cd9-830db71eb340",
   "metadata": {},
   "outputs": [
    {
     "name": "stdout",
     "output_type": "stream",
     "text": [
      "X_train shape: (20, 53)\n",
      "y_train shape: (20,)\n",
      "X_test shape: (5, 53)\n",
      "y_test shape: (5,)\n"
     ]
    }
   ],
   "source": [
    "# Créer des tableaux 2D pour X_train et X_test\n",
    "X_train = np.array([train_df[train_df['Gab_Code'] == gab]['montant_total_retrait_normalized'].values for gab in gab_codes_train])\n",
    "X_test = np.array([test_df[test_df['Gab_Code'] == gab]['montant_total_retrait_normalized'].values for gab in gab_codes_test])\n",
    "\n",
    "# Définir y_train et y_test\n",
    "y_train = np.array([train_df[train_df['Gab_Code'] == gab]['classe'].values[0] for gab in gab_codes_train])\n",
    "y_test = np.array([test_df[test_df['Gab_Code'] == gab]['classe'].values[0] for gab in gab_codes_test])\n",
    "\n",
    "# Afficher les dimensions pour vérification\n",
    "print(\"X_train shape:\", X_train.shape)\n",
    "print(\"y_train shape:\", y_train.shape)\n",
    "print(\"X_test shape:\", X_test.shape)\n",
    "print(\"y_test shape:\", y_test.shape)"
   ]
  },
  {
   "cell_type": "code",
   "execution_count": 20,
   "id": "31ea846d-0236-40b7-9dc9-864ce98f8c60",
   "metadata": {},
   "outputs": [
    {
     "data": {
      "text/plain": [
       "array([[-0.1998414 , -0.00523394, -0.09888977, ...,  0.11823949,\n",
       "         0.20555115, -0.59896907],\n",
       "       [-0.54171293, -0.46391753, -0.47375099, ..., -0.25606661,\n",
       "        -0.22355274, -0.54369548],\n",
       "       [-0.59881047, -0.5480571 , -0.60872324, ..., -0.63846154,\n",
       "        -0.629659  , -0.63941316],\n",
       "       ...,\n",
       "       [-0.64353688, -0.64353688, -0.50697859, ..., -0.28651864,\n",
       "        -0.04226804, -0.50896114],\n",
       "       [-0.63441713, -0.62648692, -0.63116574, ..., -0.56772403,\n",
       "        -0.59389374, -0.62474227],\n",
       "       [-0.30134814,  0.10531324,  0.03148295, ...,  0.21538462,\n",
       "         0.62902458, -0.48691515]])"
      ]
     },
     "execution_count": 20,
     "metadata": {},
     "output_type": "execute_result"
    }
   ],
   "source": [
    "X_train"
   ]
  },
  {
   "cell_type": "code",
   "execution_count": 21,
   "id": "c42533b5-7b6d-44b1-9908-797052568c73",
   "metadata": {},
   "outputs": [
    {
     "data": {
      "text/plain": [
       "array(['moyen', 'faible', 'tres_faible', 'tres_elevé', 'elevé',\n",
       "       'tres_faible', 'faible', 'tres_elevé', 'elevé', 'elevé', 'faible',\n",
       "       'moyen', 'tres_faible', 'moyen', 'faible', 'elevé', 'tres_elevé',\n",
       "       'faible', 'tres_faible', 'moyen'], dtype='<U11')"
      ]
     },
     "execution_count": 21,
     "metadata": {},
     "output_type": "execute_result"
    }
   ],
   "source": [
    "y_train"
   ]
  },
  {
   "cell_type": "code",
   "execution_count": 22,
   "id": "c0c48ae6-801b-4466-981b-84e1c94f7d74",
   "metadata": {},
   "outputs": [
    {
     "data": {
      "text/plain": [
       "array(['elevé', 'tres_faible', 'moyen', 'tres_elevé', 'tres_elevé'],\n",
       "      dtype='<U11')"
      ]
     },
     "execution_count": 22,
     "metadata": {},
     "output_type": "execute_result"
    }
   ],
   "source": [
    "y_test"
   ]
  },
  {
   "cell_type": "markdown",
   "id": "0b975833-bf8c-4ed2-b7ff-3c00f3175d47",
   "metadata": {},
   "source": [
    "### choisir le nombre optimal de voisins K en utilisant la methode de validation croisée"
   ]
  },
  {
   "cell_type": "code",
   "execution_count": 23,
   "id": "2eceae8f-ca12-4b1b-8002-0aad6620606c",
   "metadata": {},
   "outputs": [
    {
     "name": "stdout",
     "output_type": "stream",
     "text": [
      "Meilleur k: 1 avec une précision de: 0.9523809523809524\n"
     ]
    }
   ],
   "source": [
    "import numpy as np\n",
    "import pandas as pd\n",
    "from sklearn.model_selection import StratifiedKFold, cross_val_score\n",
    "from sklearn.neighbors import KNeighborsClassifier\n",
    "\n",
    "# Définir la plage de valeurs de k à tester\n",
    "k_range = range(1, 12) \n",
    "k_scores = []\n",
    "\n",
    "# Initialiser la validation croisée stratifiée\n",
    "stratified_k_fold = StratifiedKFold(n_splits=3, shuffle=True, random_state=42)\n",
    "\n",
    "# Tester chaque valeur de k\n",
    "for k in k_range:\n",
    "    knn = KNeighborsClassifier(n_neighbors=k)\n",
    "    \n",
    "    # Utiliser cross_val_score pour évaluer les performances du modèle avec la validation croisée\n",
    "    scores = cross_val_score(knn, X_train, y_train, cv=stratified_k_fold, scoring='accuracy')\n",
    "    \n",
    "    # Calculer la moyenne des scores et l'ajouter à la liste des scores pour chaque k\n",
    "    k_scores.append(scores.mean())\n",
    "\n",
    "# Trouver la valeur de k qui donne la meilleure performance\n",
    "best_k = k_range[np.argmax(k_scores)]\n",
    "print(f\"Meilleur k: {best_k} avec une précision de: {max(k_scores)}\")"
   ]
  },
  {
   "cell_type": "code",
   "execution_count": 24,
   "id": "3bc26e8d-14dc-4718-9f2e-e1a6ee687638",
   "metadata": {},
   "outputs": [
    {
     "data": {
      "image/png": "[encoded data removed]",
      "text/plain": [
       "<Figure size 432x288 with 1 Axes>"
      ]
     },
     "metadata": {
      "needs_background": "light"
     },
     "output_type": "display_data"
    }
   ],
   "source": [
    "\n",
    "plt.plot(k_range, k_scores)\n",
    "plt.xlabel('Value of k for KNN')\n",
    "plt.ylabel('Cross-Validated Accuracy')\n",
    "plt.title('Cross-Validation for Selecting the Best k')\n",
    "plt.show()"
   ]
  },
  {
   "cell_type": "markdown",
   "id": "46cc3534-b5dc-4699-80d5-aa1aa4903255",
   "metadata": {},
   "source": [
    "### entrainer le modele:"
   ]
  },
  {
   "cell_type": "code",
   "execution_count": 25,
   "id": "9a13fdeb-c340-4d2e-b117-3cee9707b9a7",
   "metadata": {},
   "outputs": [
    {
     "name": "stdout",
     "output_type": "stream",
     "text": [
      "Train Set Accuracy: 1.0\n",
      "Test Set Accuracy: 1.0\n",
      "Classification Report:\n",
      "              precision    recall  f1-score   support\n",
      "\n",
      "       elevé       1.00      1.00      1.00         1\n",
      "       moyen       1.00      1.00      1.00         1\n",
      "  tres_elevé       1.00      1.00      1.00         2\n",
      " tres_faible       1.00      1.00      1.00         1\n",
      "\n",
      "    accuracy                           1.00         5\n",
      "   macro avg       1.00      1.00      1.00         5\n",
      "weighted avg       1.00      1.00      1.00         5\n",
      "\n",
      "Confusion Matrix:\n",
      "[[1 0 0 0]\n",
      " [0 1 0 0]\n",
      " [0 0 2 0]\n",
      " [0 0 0 1]]\n"
     ]
    }
   ],
   "source": [
    "from sklearn.neighbors import KNeighborsClassifier\n",
    "from sklearn.metrics import accuracy_score, classification_report, confusion_matrix\n",
    "\n",
    "# Entraîner le modèle KNN avec le meilleur k trouvé\n",
    "best_k = 1\n",
    "knn = KNeighborsClassifier(n_neighbors=best_k)\n",
    "knn.fit(X_train, y_train)\n",
    "\n",
    "# Faire des prédictions sur les données dentrainement et de test\n",
    "y_train_pred = knn.predict(X_train)\n",
    "y_pred = knn.predict(X_test)\n",
    "\n",
    "# Évaluer les performances du modèle\n",
    "accuracy_train = accuracy_score(y_train, y_train_pred)\n",
    "accuracy_test = accuracy_score(y_test, y_pred)\n",
    "report = classification_report(y_test, y_pred)\n",
    "conf_matrix = confusion_matrix(y_test, y_pred)\n",
    "\n",
    "print(f\"Train Set Accuracy: {accuracy_train}\")\n",
    "print(f\"Test Set Accuracy: {accuracy_test}\")\n",
    "print(\"Classification Report:\")\n",
    "print(report)\n",
    "print(\"Confusion Matrix:\")\n",
    "print(conf_matrix)\n"
   ]
  },
  {
   "cell_type": "markdown",
   "id": "e1813a53-b09c-4c53-beb7-637be4e6f86a",
   "metadata": {},
   "source": [
    "### predire les gab restants"
   ]
  },
  {
   "cell_type": "code",
   "execution_count": 27,
   "id": "30e19d69-b807-4efb-b391-d0fe54bc5bde",
   "metadata": {},
   "outputs": [
    {
     "data": {
      "text/html": [
       "<div>\n",
       "<style scoped>\n",
       "    .dataframe tbody tr th:only-of-type {\n",
       "        vertical-align: middle;\n",
       "    }\n",
       "\n",
       "    .dataframe tbody tr th {\n",
       "        vertical-align: top;\n",
       "    }\n",
       "\n",
       "    .dataframe thead th {\n",
       "        text-align: right;\n",
       "    }\n",
       "</style>\n",
       "<table border=\"1\" class=\"dataframe\">\n",
       "  <thead>\n",
       "    <tr style=\"text-align: right;\">\n",
       "      <th></th>\n",
       "      <th>Gab_Code</th>\n",
       "      <th>nbr_semaine</th>\n",
       "      <th>montant_total_retrait</th>\n",
       "      <th>montant_retrait_normalized</th>\n",
       "    </tr>\n",
       "  </thead>\n",
       "  <tbody>\n",
       "    <tr>\n",
       "      <th>53</th>\n",
       "      <td>800005027</td>\n",
       "      <td>1</td>\n",
       "      <td>7241000</td>\n",
       "      <td>-0.029110</td>\n",
       "    </tr>\n",
       "    <tr>\n",
       "      <th>54</th>\n",
       "      <td>800005027</td>\n",
       "      <td>2</td>\n",
       "      <td>10338000</td>\n",
       "      <td>0.234112</td>\n",
       "    </tr>\n",
       "    <tr>\n",
       "      <th>55</th>\n",
       "      <td>800005027</td>\n",
       "      <td>3</td>\n",
       "      <td>15256000</td>\n",
       "      <td>0.652105</td>\n",
       "    </tr>\n",
       "    <tr>\n",
       "      <th>56</th>\n",
       "      <td>800005027</td>\n",
       "      <td>4</td>\n",
       "      <td>15692000</td>\n",
       "      <td>0.689161</td>\n",
       "    </tr>\n",
       "    <tr>\n",
       "      <th>57</th>\n",
       "      <td>800005027</td>\n",
       "      <td>5</td>\n",
       "      <td>14172000</td>\n",
       "      <td>0.559973</td>\n",
       "    </tr>\n",
       "    <tr>\n",
       "      <th>...</th>\n",
       "      <td>...</td>\n",
       "      <td>...</td>\n",
       "      <td>...</td>\n",
       "      <td>...</td>\n",
       "    </tr>\n",
       "    <tr>\n",
       "      <th>4235</th>\n",
       "      <td>800233027</td>\n",
       "      <td>49</td>\n",
       "      <td>11833000</td>\n",
       "      <td>0.361175</td>\n",
       "    </tr>\n",
       "    <tr>\n",
       "      <th>4236</th>\n",
       "      <td>800233027</td>\n",
       "      <td>50</td>\n",
       "      <td>6252000</td>\n",
       "      <td>-0.113167</td>\n",
       "    </tr>\n",
       "    <tr>\n",
       "      <th>4237</th>\n",
       "      <td>800233027</td>\n",
       "      <td>51</td>\n",
       "      <td>6367000</td>\n",
       "      <td>-0.103393</td>\n",
       "    </tr>\n",
       "    <tr>\n",
       "      <th>4238</th>\n",
       "      <td>800233027</td>\n",
       "      <td>52</td>\n",
       "      <td>8817000</td>\n",
       "      <td>0.104838</td>\n",
       "    </tr>\n",
       "    <tr>\n",
       "      <th>4239</th>\n",
       "      <td>800233027</td>\n",
       "      <td>53</td>\n",
       "      <td>519000</td>\n",
       "      <td>-0.600429</td>\n",
       "    </tr>\n",
       "  </tbody>\n",
       "</table>\n",
       "<p>2968 rows × 4 columns</p>\n",
       "</div>"
      ],
      "text/plain": [
       "       Gab_Code  nbr_semaine  montant_total_retrait  \\\n",
       "53    800005027            1                7241000   \n",
       "54    800005027            2               10338000   \n",
       "55    800005027            3               15256000   \n",
       "56    800005027            4               15692000   \n",
       "57    800005027            5               14172000   \n",
       "...         ...          ...                    ...   \n",
       "4235  800233027           49               11833000   \n",
       "4236  800233027           50                6252000   \n",
       "4237  800233027           51                6367000   \n",
       "4238  800233027           52                8817000   \n",
       "4239  800233027           53                 519000   \n",
       "\n",
       "      montant_retrait_normalized  \n",
       "53                     -0.029110  \n",
       "54                      0.234112  \n",
       "55                      0.652105  \n",
       "56                      0.689161  \n",
       "57                      0.559973  \n",
       "...                          ...  \n",
       "4235                    0.361175  \n",
       "4236                   -0.113167  \n",
       "4237                   -0.103393  \n",
       "4238                    0.104838  \n",
       "4239                   -0.600429  \n",
       "\n",
       "[2968 rows x 4 columns]"
      ]
     },
     "execution_count": 27,
     "metadata": {},
     "output_type": "execute_result"
    }
   ],
   "source": [
    "from sklearn.preprocessing import RobustScaler\n",
    "\n",
    "# Sélectionner la caractéristique à normaliser (la série temporelle de montant_retrait)\n",
    "feature = gab_codes_restants_df[['montant_total_retrait']]\n",
    "\n",
    "# Initialiser RobustScaler\n",
    "scaler = RobustScaler()\n",
    "\n",
    "# Normaliser la caractéristique\n",
    "feature_normalized = scaler.fit_transform(feature)\n",
    "\n",
    "# Créer une nouvelle colonne pour les valeurs normalisées du montant_retrait\n",
    "gab_codes_restants_df['montant_retrait_normalized'] = feature_normalized\n",
    "\n",
    "# Afficher le DataFrame résultant\n",
    "gab_codes_restants_df\n"
   ]
  },
  {
   "cell_type": "code",
   "execution_count": 28,
   "id": "d5214210-7ec1-407e-8588-a592ca6a5e11",
   "metadata": {},
   "outputs": [],
   "source": [
    "X_pred = np.array([gab_codes_restants_df[gab_codes_restants_df['Gab_Code'] == gab]['montant_retrait_normalized'].values for gab in gab_codes_restants_df['Gab_Code']])"
   ]
  },
  {
   "cell_type": "code",
   "execution_count": 29,
   "id": "c6e1e5b0-effd-4ed5-b40f-2760290558c1",
   "metadata": {},
   "outputs": [
    {
     "data": {
      "text/plain": [
       "array([[-0.02910992,  0.23411172,  0.65210463, ...,  0.30754521,\n",
       "         0.298621  , -0.36466014],\n",
       "       [-0.02910992,  0.23411172,  0.65210463, ...,  0.30754521,\n",
       "         0.298621  , -0.36466014],\n",
       "       [-0.02910992,  0.23411172,  0.65210463, ...,  0.30754521,\n",
       "         0.298621  , -0.36466014],\n",
       "       ...,\n",
       "       [-0.32496866,  0.61487793, -0.20002975, ..., -0.10339332,\n",
       "         0.1048382 , -0.60042921],\n",
       "       [-0.32496866,  0.61487793, -0.20002975, ..., -0.10339332,\n",
       "         0.1048382 , -0.60042921],\n",
       "       [-0.32496866,  0.61487793, -0.20002975, ..., -0.10339332,\n",
       "         0.1048382 , -0.60042921]])"
      ]
     },
     "execution_count": 29,
     "metadata": {},
     "output_type": "execute_result"
    }
   ],
   "source": [
    "X_pred"
   ]
  },
  {
   "cell_type": "code",
   "execution_count": 30,
   "id": "d927c814-81e8-43e9-8a10-cdaaa1f46757",
   "metadata": {},
   "outputs": [],
   "source": [
    "# Faire des prédictions\n",
    "y_pred = knn.predict(X_pred)"
   ]
  },
  {
   "cell_type": "code",
   "execution_count": 31,
   "id": "18be5067-a0db-4fe1-bb37-3e1fefa9fd79",
   "metadata": {},
   "outputs": [],
   "source": [
    "# Ajouter les prédictions au DataFrame\n",
    "gab_codes_restants_df['classe'] = y_pred"
   ]
  },
  {
   "cell_type": "code",
   "execution_count": 32,
   "id": "de7d3fda-ff86-4b48-9485-1330d00a8c04",
   "metadata": {},
   "outputs": [
    {
     "data": {
      "text/html": [
       "<div>\n",
       "<style scoped>\n",
       "    .dataframe tbody tr th:only-of-type {\n",
       "        vertical-align: middle;\n",
       "    }\n",
       "\n",
       "    .dataframe tbody tr th {\n",
       "        vertical-align: top;\n",
       "    }\n",
       "\n",
       "    .dataframe thead th {\n",
       "        text-align: right;\n",
       "    }\n",
       "</style>\n",
       "<table border=\"1\" class=\"dataframe\">\n",
       "  <thead>\n",
       "    <tr style=\"text-align: right;\">\n",
       "      <th></th>\n",
       "      <th>Gab_Code</th>\n",
       "      <th>nbr_semaine</th>\n",
       "      <th>montant_total_retrait</th>\n",
       "      <th>montant_retrait_normalized</th>\n",
       "      <th>classe</th>\n",
       "    </tr>\n",
       "  </thead>\n",
       "  <tbody>\n",
       "    <tr>\n",
       "      <th>53</th>\n",
       "      <td>800005027</td>\n",
       "      <td>1</td>\n",
       "      <td>7241000</td>\n",
       "      <td>-0.029110</td>\n",
       "      <td>elevé</td>\n",
       "    </tr>\n",
       "    <tr>\n",
       "      <th>54</th>\n",
       "      <td>800005027</td>\n",
       "      <td>2</td>\n",
       "      <td>10338000</td>\n",
       "      <td>0.234112</td>\n",
       "      <td>elevé</td>\n",
       "    </tr>\n",
       "    <tr>\n",
       "      <th>55</th>\n",
       "      <td>800005027</td>\n",
       "      <td>3</td>\n",
       "      <td>15256000</td>\n",
       "      <td>0.652105</td>\n",
       "      <td>elevé</td>\n",
       "    </tr>\n",
       "    <tr>\n",
       "      <th>56</th>\n",
       "      <td>800005027</td>\n",
       "      <td>4</td>\n",
       "      <td>15692000</td>\n",
       "      <td>0.689161</td>\n",
       "      <td>elevé</td>\n",
       "    </tr>\n",
       "    <tr>\n",
       "      <th>57</th>\n",
       "      <td>800005027</td>\n",
       "      <td>5</td>\n",
       "      <td>14172000</td>\n",
       "      <td>0.559973</td>\n",
       "      <td>elevé</td>\n",
       "    </tr>\n",
       "    <tr>\n",
       "      <th>...</th>\n",
       "      <td>...</td>\n",
       "      <td>...</td>\n",
       "      <td>...</td>\n",
       "      <td>...</td>\n",
       "      <td>...</td>\n",
       "    </tr>\n",
       "    <tr>\n",
       "      <th>4235</th>\n",
       "      <td>800233027</td>\n",
       "      <td>49</td>\n",
       "      <td>11833000</td>\n",
       "      <td>0.361175</td>\n",
       "      <td>faible</td>\n",
       "    </tr>\n",
       "    <tr>\n",
       "      <th>4236</th>\n",
       "      <td>800233027</td>\n",
       "      <td>50</td>\n",
       "      <td>6252000</td>\n",
       "      <td>-0.113167</td>\n",
       "      <td>faible</td>\n",
       "    </tr>\n",
       "    <tr>\n",
       "      <th>4237</th>\n",
       "      <td>800233027</td>\n",
       "      <td>51</td>\n",
       "      <td>6367000</td>\n",
       "      <td>-0.103393</td>\n",
       "      <td>faible</td>\n",
       "    </tr>\n",
       "    <tr>\n",
       "      <th>4238</th>\n",
       "      <td>800233027</td>\n",
       "      <td>52</td>\n",
       "      <td>8817000</td>\n",
       "      <td>0.104838</td>\n",
       "      <td>faible</td>\n",
       "    </tr>\n",
       "    <tr>\n",
       "      <th>4239</th>\n",
       "      <td>800233027</td>\n",
       "      <td>53</td>\n",
       "      <td>519000</td>\n",
       "      <td>-0.600429</td>\n",
       "      <td>faible</td>\n",
       "    </tr>\n",
       "  </tbody>\n",
       "</table>\n",
       "<p>2968 rows × 5 columns</p>\n",
       "</div>"
      ],
      "text/plain": [
       "       Gab_Code  nbr_semaine  montant_total_retrait  \\\n",
       "53    800005027            1                7241000   \n",
       "54    800005027            2               10338000   \n",
       "55    800005027            3               15256000   \n",
       "56    800005027            4               15692000   \n",
       "57    800005027            5               14172000   \n",
       "...         ...          ...                    ...   \n",
       "4235  800233027           49               11833000   \n",
       "4236  800233027           50                6252000   \n",
       "4237  800233027           51                6367000   \n",
       "4238  800233027           52                8817000   \n",
       "4239  800233027           53                 519000   \n",
       "\n",
       "      montant_retrait_normalized  classe  \n",
       "53                     -0.029110   elevé  \n",
       "54                      0.234112   elevé  \n",
       "55                      0.652105   elevé  \n",
       "56                      0.689161   elevé  \n",
       "57                      0.559973   elevé  \n",
       "...                          ...     ...  \n",
       "4235                    0.361175  faible  \n",
       "4236                   -0.113167  faible  \n",
       "4237                   -0.103393  faible  \n",
       "4238                    0.104838  faible  \n",
       "4239                   -0.600429  faible  \n",
       "\n",
       "[2968 rows x 5 columns]"
      ]
     },
     "execution_count": 32,
     "metadata": {},
     "output_type": "execute_result"
    }
   ],
   "source": [
    "gab_codes_restants_df"
   ]
  },
  {
   "cell_type": "code",
   "execution_count": 35,
   "id": "a7ee4509-eec4-43c8-b10d-6ad28756ff74",
   "metadata": {},
   "outputs": [
    {
     "data": {
      "text/html": [
       "<div>\n",
       "<style scoped>\n",
       "    .dataframe tbody tr th:only-of-type {\n",
       "        vertical-align: middle;\n",
       "    }\n",
       "\n",
       "    .dataframe tbody tr th {\n",
       "        vertical-align: top;\n",
       "    }\n",
       "\n",
       "    .dataframe thead th {\n",
       "        text-align: right;\n",
       "    }\n",
       "</style>\n",
       "<table border=\"1\" class=\"dataframe\">\n",
       "  <thead>\n",
       "    <tr style=\"text-align: right;\">\n",
       "      <th></th>\n",
       "      <th>Gab_Code</th>\n",
       "      <th>nbr_semaine</th>\n",
       "      <th>montant_total_retrait</th>\n",
       "      <th>classe</th>\n",
       "      <th>montant_total_retrait_normalized</th>\n",
       "      <th>montant_retrait_normalized</th>\n",
       "    </tr>\n",
       "  </thead>\n",
       "  <tbody>\n",
       "    <tr>\n",
       "      <th>0</th>\n",
       "      <td>800004027</td>\n",
       "      <td>1</td>\n",
       "      <td>1420000</td>\n",
       "      <td>moyen</td>\n",
       "      <td>-0.530928</td>\n",
       "      <td>NaN</td>\n",
       "    </tr>\n",
       "    <tr>\n",
       "      <th>1</th>\n",
       "      <td>800004027</td>\n",
       "      <td>2</td>\n",
       "      <td>7089000</td>\n",
       "      <td>moyen</td>\n",
       "      <td>-0.081364</td>\n",
       "      <td>NaN</td>\n",
       "    </tr>\n",
       "    <tr>\n",
       "      <th>2</th>\n",
       "      <td>800004027</td>\n",
       "      <td>3</td>\n",
       "      <td>5409000</td>\n",
       "      <td>moyen</td>\n",
       "      <td>-0.214592</td>\n",
       "      <td>NaN</td>\n",
       "    </tr>\n",
       "    <tr>\n",
       "      <th>3</th>\n",
       "      <td>800004027</td>\n",
       "      <td>4</td>\n",
       "      <td>6242000</td>\n",
       "      <td>moyen</td>\n",
       "      <td>-0.148533</td>\n",
       "      <td>NaN</td>\n",
       "    </tr>\n",
       "    <tr>\n",
       "      <th>4</th>\n",
       "      <td>800004027</td>\n",
       "      <td>5</td>\n",
       "      <td>8560000</td>\n",
       "      <td>moyen</td>\n",
       "      <td>0.035289</td>\n",
       "      <td>NaN</td>\n",
       "    </tr>\n",
       "    <tr>\n",
       "      <th>...</th>\n",
       "      <td>...</td>\n",
       "      <td>...</td>\n",
       "      <td>...</td>\n",
       "      <td>...</td>\n",
       "      <td>...</td>\n",
       "      <td>...</td>\n",
       "    </tr>\n",
       "    <tr>\n",
       "      <th>4288</th>\n",
       "      <td>800233027</td>\n",
       "      <td>49</td>\n",
       "      <td>11833000</td>\n",
       "      <td>faible</td>\n",
       "      <td>NaN</td>\n",
       "      <td>0.361175</td>\n",
       "    </tr>\n",
       "    <tr>\n",
       "      <th>4289</th>\n",
       "      <td>800233027</td>\n",
       "      <td>50</td>\n",
       "      <td>6252000</td>\n",
       "      <td>faible</td>\n",
       "      <td>NaN</td>\n",
       "      <td>-0.113167</td>\n",
       "    </tr>\n",
       "    <tr>\n",
       "      <th>4290</th>\n",
       "      <td>800233027</td>\n",
       "      <td>51</td>\n",
       "      <td>6367000</td>\n",
       "      <td>faible</td>\n",
       "      <td>NaN</td>\n",
       "      <td>-0.103393</td>\n",
       "    </tr>\n",
       "    <tr>\n",
       "      <th>4291</th>\n",
       "      <td>800233027</td>\n",
       "      <td>52</td>\n",
       "      <td>8817000</td>\n",
       "      <td>faible</td>\n",
       "      <td>NaN</td>\n",
       "      <td>0.104838</td>\n",
       "    </tr>\n",
       "    <tr>\n",
       "      <th>4292</th>\n",
       "      <td>800233027</td>\n",
       "      <td>53</td>\n",
       "      <td>519000</td>\n",
       "      <td>faible</td>\n",
       "      <td>NaN</td>\n",
       "      <td>-0.600429</td>\n",
       "    </tr>\n",
       "  </tbody>\n",
       "</table>\n",
       "<p>4293 rows × 6 columns</p>\n",
       "</div>"
      ],
      "text/plain": [
       "       Gab_Code  nbr_semaine  montant_total_retrait  classe  \\\n",
       "0     800004027            1                1420000   moyen   \n",
       "1     800004027            2                7089000   moyen   \n",
       "2     800004027            3                5409000   moyen   \n",
       "3     800004027            4                6242000   moyen   \n",
       "4     800004027            5                8560000   moyen   \n",
       "...         ...          ...                    ...     ...   \n",
       "4288  800233027           49               11833000  faible   \n",
       "4289  800233027           50                6252000  faible   \n",
       "4290  800233027           51                6367000  faible   \n",
       "4291  800233027           52                8817000  faible   \n",
       "4292  800233027           53                 519000  faible   \n",
       "\n",
       "      montant_total_retrait_normalized  montant_retrait_normalized  \n",
       "0                            -0.530928                         NaN  \n",
       "1                            -0.081364                         NaN  \n",
       "2                            -0.214592                         NaN  \n",
       "3                            -0.148533                         NaN  \n",
       "4                             0.035289                         NaN  \n",
       "...                                ...                         ...  \n",
       "4288                               NaN                    0.361175  \n",
       "4289                               NaN                   -0.113167  \n",
       "4290                               NaN                   -0.103393  \n",
       "4291                               NaN                    0.104838  \n",
       "4292                               NaN                   -0.600429  \n",
       "\n",
       "[4293 rows x 6 columns]"
      ]
     },
     "execution_count": 35,
     "metadata": {},
     "output_type": "execute_result"
    }
   ],
   "source": [
    "# Concaténer les deux DataFrames\n",
    "final_df = pd.concat([nouveau_df, gab_codes_restants_df], ignore_index=True)\n",
    "final_df"
   ]
  },
  {
   "cell_type": "markdown",
   "id": "1cb5aa92-cbf8-4dbb-855e-b8cad5a2782e",
   "metadata": {},
   "source": [
    "## visualisation de la classification"
   ]
  },
  {
   "cell_type": "code",
   "execution_count": 36,
   "id": "971fc368-8d9b-4f13-9675-293611290903",
   "metadata": {},
   "outputs": [
    {
     "data": {
      "image/png": "[encoded data removed]",
      "text/plain": [
       "<Figure size 1440x576 with 1 Axes>"
      ]
     },
     "metadata": {
      "needs_background": "light"
     },
     "output_type": "display_data"
    }
   ],
   "source": [
    "import seaborn as sns\n",
    "import matplotlib.pyplot as plt\n",
    "\n",
    "# Regrouper les montants par GAB et Cluster\n",
    "gab_cluster_amounts = final_df.groupby(['Gab_Code', 'classe'])['montant_total_retrait'].sum().reset_index()\n",
    "\n",
    "plt.figure(figsize=(20, 8))\n",
    "\n",
    "# Utiliser seaborn pour tracer le graphique à barres coloré par cluster\n",
    "sns.barplot(data=gab_cluster_amounts, x='Gab_Code', y='montant_total_retrait', hue='classe', dodge=False)\n",
    "\n",
    "plt.title('Histogramme du total des montants de retraits par GAB avec coloration par cluster')\n",
    "plt.xlabel('Gab_Code')\n",
    "plt.ylabel('Total Amount')\n",
    "plt.xticks(rotation=90)\n",
    "plt.legend(title='classe')\n",
    "plt.show()"
   ]
  },
  {
   "cell_type": "markdown",
   "id": "2b032318-9365-4565-8a99-acf398773b81",
   "metadata": {},
   "source": [
    "## evaluer le modele "
   ]
  },
  {
   "cell_type": "code",
   "execution_count": 43,
   "id": "75e3f9b6-d7aa-4cee-b144-9bd84cae4134",
   "metadata": {},
   "outputs": [
    {
     "data": {
      "text/html": [
       "<div>\n",
       "<style scoped>\n",
       "    .dataframe tbody tr th:only-of-type {\n",
       "        vertical-align: middle;\n",
       "    }\n",
       "\n",
       "    .dataframe tbody tr th {\n",
       "        vertical-align: top;\n",
       "    }\n",
       "\n",
       "    .dataframe thead th {\n",
       "        text-align: right;\n",
       "    }\n",
       "</style>\n",
       "<table border=\"1\" class=\"dataframe\">\n",
       "  <thead>\n",
       "    <tr style=\"text-align: right;\">\n",
       "      <th></th>\n",
       "      <th>Gab_Code</th>\n",
       "      <th>nbr_semaine</th>\n",
       "      <th>montant_total_retrait</th>\n",
       "      <th>classe</th>\n",
       "      <th>montant_total_retrait_normalized</th>\n",
       "      <th>montant_retrait_normalized</th>\n",
       "      <th>montant_norma</th>\n",
       "    </tr>\n",
       "  </thead>\n",
       "  <tbody>\n",
       "    <tr>\n",
       "      <th>0</th>\n",
       "      <td>800004027</td>\n",
       "      <td>1</td>\n",
       "      <td>1420000</td>\n",
       "      <td>moyen</td>\n",
       "      <td>-0.530928</td>\n",
       "      <td>NaN</td>\n",
       "      <td>-0.531334</td>\n",
       "    </tr>\n",
       "    <tr>\n",
       "      <th>1</th>\n",
       "      <td>800004027</td>\n",
       "      <td>2</td>\n",
       "      <td>7089000</td>\n",
       "      <td>moyen</td>\n",
       "      <td>-0.081364</td>\n",
       "      <td>NaN</td>\n",
       "      <td>-0.057654</td>\n",
       "    </tr>\n",
       "    <tr>\n",
       "      <th>2</th>\n",
       "      <td>800004027</td>\n",
       "      <td>3</td>\n",
       "      <td>5409000</td>\n",
       "      <td>moyen</td>\n",
       "      <td>-0.214592</td>\n",
       "      <td>NaN</td>\n",
       "      <td>-0.198028</td>\n",
       "    </tr>\n",
       "    <tr>\n",
       "      <th>3</th>\n",
       "      <td>800004027</td>\n",
       "      <td>4</td>\n",
       "      <td>6242000</td>\n",
       "      <td>moyen</td>\n",
       "      <td>-0.148533</td>\n",
       "      <td>NaN</td>\n",
       "      <td>-0.128426</td>\n",
       "    </tr>\n",
       "    <tr>\n",
       "      <th>4</th>\n",
       "      <td>800004027</td>\n",
       "      <td>5</td>\n",
       "      <td>8560000</td>\n",
       "      <td>moyen</td>\n",
       "      <td>0.035289</td>\n",
       "      <td>NaN</td>\n",
       "      <td>0.065257</td>\n",
       "    </tr>\n",
       "    <tr>\n",
       "      <th>...</th>\n",
       "      <td>...</td>\n",
       "      <td>...</td>\n",
       "      <td>...</td>\n",
       "      <td>...</td>\n",
       "      <td>...</td>\n",
       "      <td>...</td>\n",
       "      <td>...</td>\n",
       "    </tr>\n",
       "    <tr>\n",
       "      <th>4288</th>\n",
       "      <td>800233027</td>\n",
       "      <td>49</td>\n",
       "      <td>11833000</td>\n",
       "      <td>faible</td>\n",
       "      <td>NaN</td>\n",
       "      <td>0.361175</td>\n",
       "      <td>0.338737</td>\n",
       "    </tr>\n",
       "    <tr>\n",
       "      <th>4289</th>\n",
       "      <td>800233027</td>\n",
       "      <td>50</td>\n",
       "      <td>6252000</td>\n",
       "      <td>faible</td>\n",
       "      <td>NaN</td>\n",
       "      <td>-0.113167</td>\n",
       "      <td>-0.127590</td>\n",
       "    </tr>\n",
       "    <tr>\n",
       "      <th>4290</th>\n",
       "      <td>800233027</td>\n",
       "      <td>51</td>\n",
       "      <td>6367000</td>\n",
       "      <td>faible</td>\n",
       "      <td>NaN</td>\n",
       "      <td>-0.103393</td>\n",
       "      <td>-0.117981</td>\n",
       "    </tr>\n",
       "    <tr>\n",
       "      <th>4291</th>\n",
       "      <td>800233027</td>\n",
       "      <td>52</td>\n",
       "      <td>8817000</td>\n",
       "      <td>faible</td>\n",
       "      <td>NaN</td>\n",
       "      <td>0.104838</td>\n",
       "      <td>0.086731</td>\n",
       "    </tr>\n",
       "    <tr>\n",
       "      <th>4292</th>\n",
       "      <td>800233027</td>\n",
       "      <td>53</td>\n",
       "      <td>519000</td>\n",
       "      <td>faible</td>\n",
       "      <td>NaN</td>\n",
       "      <td>-0.600429</td>\n",
       "      <td>-0.606618</td>\n",
       "    </tr>\n",
       "  </tbody>\n",
       "</table>\n",
       "<p>4293 rows × 7 columns</p>\n",
       "</div>"
      ],
      "text/plain": [
       "       Gab_Code  nbr_semaine  montant_total_retrait  classe  \\\n",
       "0     800004027            1                1420000   moyen   \n",
       "1     800004027            2                7089000   moyen   \n",
       "2     800004027            3                5409000   moyen   \n",
       "3     800004027            4                6242000   moyen   \n",
       "4     800004027            5                8560000   moyen   \n",
       "...         ...          ...                    ...     ...   \n",
       "4288  800233027           49               11833000  faible   \n",
       "4289  800233027           50                6252000  faible   \n",
       "4290  800233027           51                6367000  faible   \n",
       "4291  800233027           52                8817000  faible   \n",
       "4292  800233027           53                 519000  faible   \n",
       "\n",
       "      montant_total_retrait_normalized  montant_retrait_normalized  \\\n",
       "0                            -0.530928                         NaN   \n",
       "1                            -0.081364                         NaN   \n",
       "2                            -0.214592                         NaN   \n",
       "3                            -0.148533                         NaN   \n",
       "4                             0.035289                         NaN   \n",
       "...                                ...                         ...   \n",
       "4288                               NaN                    0.361175   \n",
       "4289                               NaN                   -0.113167   \n",
       "4290                               NaN                   -0.103393   \n",
       "4291                               NaN                    0.104838   \n",
       "4292                               NaN                   -0.600429   \n",
       "\n",
       "      montant_norma  \n",
       "0         -0.531334  \n",
       "1         -0.057654  \n",
       "2         -0.198028  \n",
       "3         -0.128426  \n",
       "4          0.065257  \n",
       "...             ...  \n",
       "4288       0.338737  \n",
       "4289      -0.127590  \n",
       "4290      -0.117981  \n",
       "4291       0.086731  \n",
       "4292      -0.606618  \n",
       "\n",
       "[4293 rows x 7 columns]"
      ]
     },
     "execution_count": 43,
     "metadata": {},
     "output_type": "execute_result"
    }
   ],
   "source": [
    "from sklearn.preprocessing import RobustScaler\n",
    "\n",
    "# Sélectionner la colonne à normaliser (montant_total_retrait)\n",
    "montant = final_df[['montant_total_retrait']]\n",
    "\n",
    "# Initialiser RobustScaler\n",
    "scaler = RobustScaler()\n",
    "\n",
    "# Normaliser la colonne montant_total_retrait\n",
    "montant_norm = scaler.fit_transform(montant)\n",
    "\n",
    "# Créer une nouvelle colonne pour les valeurs normalisées\n",
    "final_df['montant_norma'] = montant_norm\n",
    "final_df"
   ]
  },
  {
   "cell_type": "code",
   "execution_count": 48,
   "id": "05d52491-31db-4c11-83f5-320185d296b5",
   "metadata": {},
   "outputs": [
    {
     "data": {
      "text/plain": [
       "array(['800004027', '800005027', '800006027', '800007027', '800010027',\n",
       "       '800011027', '800017027', '800019027', '800022027', '800023027',\n",
       "       '800026027', '800028027', '800029027', '800031027', '800033027',\n",
       "       '800037027', '800039027', '800041027', '800042027', '800043027',\n",
       "       '800045027', '800046027', '800047027', '800048027', '800058027',\n",
       "       '800071027', '800072027', '800075027', '800079027', '800091027',\n",
       "       '800112027', '800131027', '800137027', '800141027', '800145027',\n",
       "       '800152027', '800154027', '800161027', '800165027', '800169027',\n",
       "       '800176027', '800177027', '800179027', '800180027', '800181027',\n",
       "       '800182027', '800186027', '800187027', '800191027', '800192027',\n",
       "       '800196027', '800197027', '800200027', '800201027', '800202027',\n",
       "       '800203027', '800205027', '800206027', '800208027', '800209027',\n",
       "       '800210027', '800211027', '800213027', '800214027', '800215027',\n",
       "       '800216027', '800217027', '800218027', '800219027', '800220027',\n",
       "       '800221027', '800222027', '800224027', '800225027', '800226027',\n",
       "       '800227027', '800228027', '800231027', '800232027', '800233027',\n",
       "       '800235027'], dtype=object)"
      ]
     },
     "execution_count": 48,
     "metadata": {},
     "output_type": "execute_result"
    }
   ],
   "source": [
    "gab_codee=df['Gab_Code'].unique()\n",
    "gab_codee"
   ]
  },
  {
   "cell_type": "code",
   "execution_count": 49,
   "id": "d3f39049-28ed-48d8-afeb-a8c9493145dc",
   "metadata": {},
   "outputs": [],
   "source": [
    "X_final = np.array([final_df[final_df['Gab_Code'] == gab]['montant_norma'].values for gab in gab_codee])\n",
    "\n",
    "y_final = np.array([final_df[final_df['Gab_Code'] == gab]['classe'].values[0] for gab in gab_codee])\n"
   ]
  },
  {
   "cell_type": "markdown",
   "id": "c1aa9935-280f-4429-812b-917a382f2e4f",
   "metadata": {},
   "source": [
    "## 'Accuracy'"
   ]
  },
  {
   "cell_type": "code",
   "execution_count": 53,
   "id": "5c4467cc-30ae-44bc-b59a-1b5de52033f9",
   "metadata": {},
   "outputs": [
    {
     "name": "stdout",
     "output_type": "stream",
     "text": [
      "Accuracy: 0.9753086419753086\n"
     ]
    }
   ],
   "source": [
    "y_train_final = knn.predict(X_final)\n",
    "\n",
    "# Évaluer les performances du modèle\n",
    "accuracy_fin = accuracy_score(y_final, y_train_final)\n",
    "print(f\"Accuracy: {accuracy_fin}\")"
   ]
  },
  {
   "cell_type": "markdown",
   "id": "ce7433dc-d67b-4d86-a4ab-14098c6cae62",
   "metadata": {},
   "source": [
    "## afficher les gabs associés a chaque classe "
   ]
  },
  {
   "cell_type": "code",
   "execution_count": 56,
   "id": "bbe3e4a3-fcc9-4e3c-8349-25ba25e2741e",
   "metadata": {},
   "outputs": [
    {
     "name": "stdout",
     "output_type": "stream",
     "text": [
      "Classe : elevé, Gab_Codes uniques : ['800019027' '800029027' '800031027' '800039027' '800043027' '800005027'\n",
      " '800010027' '800026027' '800037027' '800152027' '800192027' '800201027'\n",
      " '800208027' '800214027' '800218027' '800221027' '800224027' '800231027'\n",
      " '800232027']\n",
      "Classe : faible, Gab_Codes uniques : ['800161027' '800169027' '800179027' '800213027' '800235027' '800007027'\n",
      " '800022027' '800041027' '800042027' '800072027' '800079027' '800137027'\n",
      " '800165027' '800180027' '800181027' '800187027' '800191027' '800196027'\n",
      " '800209027' '800233027']\n",
      "Classe : moyen, Gab_Codes uniques : ['800004027' '800033027' '800048027' '800203027' '800206027' '800047027'\n",
      " '800075027' '800091027' '800154027' '800186027' '800211027' '800225027']\n",
      "Classe : tres_elevé, Gab_Codes uniques : ['800071027' '800131027' '800200027' '800219027' '800228027' '800017027'\n",
      " '800045027' '800046027' '800058027' '800176027' '800177027' '800205027'\n",
      " '800217027' '800220027' '800222027']\n",
      "Classe : tres_faible, Gab_Codes uniques : ['800006027' '800011027' '800202027' '800210027' '800215027' '800023027'\n",
      " '800028027' '800112027' '800141027' '800145027' '800182027' '800197027'\n",
      " '800216027' '800226027' '800227027']\n"
     ]
    }
   ],
   "source": [
    "import pandas as pd\n",
    "\n",
    "# Grouper les gab_Codes par classe et obtenir les gab_codes uniques pour chaque classe\n",
    "gab_unique_par_classe = final_df.groupby('classe')['Gab_Code'].unique()\n",
    "\n",
    "# Afficher les gab_Codes uniques associés à chaque classe\n",
    "for classe, gab_codes in gab_unique_par_classe.items():\n",
    "    print(f\"Classe : {classe}, Gab_Codes uniques : {gab_codes}\")\n"
   ]
  },
  {
   "cell_type": "markdown",
   "id": "82e292ac-43bb-41e3-ac23-239404c60c8c",
   "metadata": {},
   "source": [
    "## calculer les centres des classes "
   ]
  },
  {
   "cell_type": "code",
   "execution_count": 64,
   "id": "dc8f607b-b2eb-40fa-b001-2fe6b790c302",
   "metadata": {},
   "outputs": [
    {
     "name": "stdout",
     "output_type": "stream",
     "text": [
      "['800004027', '800005027', '800006027', '800007027', '800010027', '800011027', '800017027', '800019027', '800022027', '800023027', '800026027', '800028027', '800029027', '800031027', '800033027', '800037027', '800039027', '800041027', '800042027', '800043027', '800045027', '800046027', '800047027', '800048027', '800058027', '800071027', '800072027', '800075027', '800079027', '800091027', '800112027', '800131027', '800137027', '800141027', '800145027', '800152027', '800154027', '800161027', '800165027', '800169027', '800176027', '800177027', '800179027', '800180027', '800181027', '800182027', '800186027', '800187027', '800191027', '800192027', '800196027', '800197027', '800200027', '800201027', '800202027', '800203027', '800205027', '800206027', '800208027', '800209027', '800210027', '800211027', '800213027', '800214027', '800215027', '800216027', '800217027', '800218027', '800219027', '800220027', '800221027', '800222027', '800224027', '800225027', '800226027', '800227027', '800228027', '800231027', '800232027', '800233027', '800235027']\n"
     ]
    }
   ],
   "source": [
    "# Créez un dictionnaire pour stocker les séries de total_amount par gab_code\n",
    "gab_code_series = {}\n",
    "gabcode=[]\n",
    "# Bouclez sur chaque gab_code unique dans le DataFrame\n",
    "for gab_code in df['Gab_Code'].unique():\n",
    "    gabcode.append(gab_code)\n",
    "    # Sélectionnez les valeurs de total_amount pour le gab_code donné et convertissez-les en liste\n",
    "    series = df[df['Gab_Code'] == gab_code]['montant_total_retrait'].tolist()\n",
    "    # Associez la série de total_amount au gab_code dans le dictionnaire\n",
    "    gab_code_series[gab_code] = series\n",
    "    \n",
    "# Convertir le dictionnaire en une liste de séries\n",
    "data = list(gab_code_series.values())\n",
    "print(gabcode)"
   ]
  },
  {
   "cell_type": "markdown",
   "id": "6cd19f73-fba3-4b7a-8278-fd3755c7bd8c",
   "metadata": {},
   "source": [
    "# centre de la classe 'tres_faible'"
   ]
  },
  {
   "cell_type": "markdown",
   "id": "047176d8-e070-47c7-9316-fa927847571b",
   "metadata": {},
   "source": [
    "#### creer une liste 'tres_faible' qui contient des listes des series des gabs associées a cette classe:"
   ]
  },
  {
   "cell_type": "code",
   "execution_count": 76,
   "id": "f9840be7-f4da-4d13-811b-e747ac0e633d",
   "metadata": {},
   "outputs": [],
   "source": [
    "# Filtrer les séries de gab pour la classe \"tres_faible\"\n",
    "series_tres_faible = final_df[final_df['classe'] == 'tres_faible']\n",
    "\n",
    "# Créer une liste pour stocker les séries de gab pour la classe \"tres_faible\"\n",
    "tres_faible = []\n",
    "\n",
    "# Boucler à travers les gab_codes uniques pour la classe \"tres_faible\"\n",
    "for gab_code in series_tres_faible['Gab_Code'].unique():\n",
    "    # Sélectionner les séries de gab pour ce gab_code\n",
    "    series_gab = series_tres_faible[series_tres_faible['Gab_Code'] == gab_code]['montant_total_retrait'].tolist()\n",
    "    tres_faible.append(series_gab)\n",
    "\n",
    "\n",
    "print(tres_faible)"
   ]
  },
  {
   "cell_type": "code",
   "execution_count": 69,
   "id": "e83442c2-b0bf-4b1b-8766-196504859d18",
   "metadata": {},
   "outputs": [],
   "source": [
    "import numpy as np\n",
    "\n",
    "def distance(series1, series2):\n",
    "  # calcule euclidean distance simple entre 2 serie \n",
    "  sum_squared_distance = 0\n",
    "  for i in range(len(series1)):\n",
    "    sum_squared_distance += (series1[i] - series2[i])**2\n",
    "  return sum_squared_distance**0.5\n",
    "\n",
    "def calucle_centre(cluster_list) :\n",
    "    cout=[]\n",
    "    for i,centre in enumerate(cluster_list) :\n",
    "        summ=0\n",
    "        for j in range(len(cluster_list)) :\n",
    "            summ+=distance(centre,cluster_list[j])\n",
    "        cout.append(summ)\n",
    "    min_indx=np.argmin(cout)\n",
    "    return cluster_list[min_indx]"
   ]
  },
  {
   "cell_type": "code",
   "execution_count": 94,
   "id": "dc365b78-03df-472f-b978-1b918a78eafb",
   "metadata": {},
   "outputs": [
    {
     "name": "stdout",
     "output_type": "stream",
     "text": [
      "[663000, 913000, 1161000, 1585000, 1713000, 1136000, 1214000, 1493000, 1462000, 1810000, 1393000, 1343000, 1528000, 1324000, 1266000, 1666000, 1595000, 935000, 1468000, 1348000, 400000, 1420000, 1283000, 1158000, 1848000, 1233000, 725000, 1523000, 762000, 1348000, 1682000, 1077000, 1038000, 1005000, 1674000, 872000, 891000, 1197000, 1462000, 1120000, 1843000, 982000, 946000, 1502000, 1675000, 1267000, 1217000, 1594000, 1705000, 1637000, 1438000, 1224000, 270000]\n"
     ]
    }
   ],
   "source": [
    "#liste contenant la serie du centre de la classe tres_faible:\n",
    "centre_tres_faible=calucle_centre(tres_faible)\n",
    "print(centre_tres_faible)"
   ]
  },
  {
   "cell_type": "code",
   "execution_count": 95,
   "id": "f408655f-a775-44a8-ac58-e931c5f5c4d7",
   "metadata": {},
   "outputs": [
    {
     "data": {
      "text/plain": [
       "'800011027'"
      ]
     },
     "execution_count": 95,
     "metadata": {},
     "output_type": "execute_result"
    }
   ],
   "source": [
    "# le gab centre de la classe tres_faible:\n",
    "centre_gab=0\n",
    "centre_tres_faible=calucle_centre(tres_faible)\n",
    "for i,serie in enumerate(data) :\n",
    "     if centre_tres_faible==serie :\n",
    "        tres_faible=gabcode[i]\n",
    "        \n",
    "tres_faible\n",
    "\n",
    "# gab_agence : dar el beida"
   ]
  },
  {
   "cell_type": "markdown",
   "id": "7bdb6c24-1f3c-4bca-992f-405175aca2ed",
   "metadata": {},
   "source": [
    "# centre de la classe 'faible'"
   ]
  },
  {
   "cell_type": "code",
   "execution_count": 98,
   "id": "9ef8cab6-7a4f-4d87-b47f-b2f0bc0d7aa2",
   "metadata": {},
   "outputs": [],
   "source": [
    "# Filtrer les séries de gab pour la classe \"faible\"\n",
    "series_faible = final_df[final_df['classe'] == 'faible']\n",
    "\n",
    "# Créer une liste pour stocker les séries de gab pour la classe \"faible\"\n",
    "faible = []\n",
    "\n",
    "# Boucler à travers les gab_codes uniques pour la classe \"faible\"\n",
    "for gab_code in series_faible['Gab_Code'].unique():\n",
    "    # Sélectionner les séries de gab pour ce gab_code\n",
    "    series_gab = series_faible[series_faible['Gab_Code'] == gab_code]['montant_total_retrait'].tolist()\n",
    "    faible.append(series_gab)\n",
    "\n",
    "print(faible)\n"
   ]
  },
  {
   "cell_type": "code",
   "execution_count": 99,
   "id": "49334a63-1006-441a-af3e-4b192d9a0519",
   "metadata": {},
   "outputs": [
    {
     "name": "stdout",
     "output_type": "stream",
     "text": [
      "[1284000, 2265000, 2141000, 1398000, 2022000, 2870000, 2990000, 3210000, 2947000, 2122000, 3725000, 3616000, 2089000, 1960000, 2540000, 4130000, 2268000, 3860000, 3034000, 3293000, 3460000, 3893000, 3784000, 4133000, 6012000, 4637000, 3400000, 4424000, 6145000, 5491000, 3816000, 4908000, 5422000, 6152000, 4615000, 3989000, 4664000, 4551000, 3574000, 4167000, 5089000, 4743000, 4807000, 4644000, 4669000, 4760000, 4754000, 3555000, 5297000, 5134000, 4886000, 5296000, 1259000]\n"
     ]
    }
   ],
   "source": [
    "#liste contenant la serie du centre de la classe faible:\n",
    "centre_faible=calucle_centre(faible)\n",
    "print(centre_faible)"
   ]
  },
  {
   "cell_type": "code",
   "execution_count": 100,
   "id": "1e620920-c0c5-4e26-8afb-1d7f21d2fd98",
   "metadata": {},
   "outputs": [
    {
     "data": {
      "text/plain": [
       "'800169027'"
      ]
     },
     "execution_count": 100,
     "metadata": {},
     "output_type": "execute_result"
    }
   ],
   "source": [
    "# le gab centre de la classe faible:\n",
    "centre_gab=0\n",
    "centre_faible=calucle_centre(faible)\n",
    "for i,serie in enumerate(data) :\n",
    "     if centre_faible==serie :\n",
    "        centre_faible=gabcode[i]\n",
    "        \n",
    "centre_faible\n",
    "\n",
    "# il se situe a bejaia"
   ]
  },
  {
   "cell_type": "markdown",
   "id": "64667c79-d29b-4ed4-ad58-449007d9e943",
   "metadata": {},
   "source": [
    "# centre de la classe 'moyen'"
   ]
  },
  {
   "cell_type": "code",
   "execution_count": 83,
   "id": "1ccf4ac5-8ffb-422e-9c99-fd364bf2d61a",
   "metadata": {},
   "outputs": [],
   "source": [
    "# Filtrer les séries de gab pour la classe \"moyen\"\n",
    "series_moyen = final_df[final_df['classe'] == 'moyen']\n",
    "\n",
    "# Créer une liste pour stocker les séries de gab pour la classe \"moyen\"\n",
    "moyen = []\n",
    "\n",
    "# Boucler à travers les gab_codes uniques pour la classe \"moyen\"\n",
    "for gab_code in series_moyen['Gab_Code'].unique():\n",
    "    # Sélectionner les séries de gab pour ce gab_code\n",
    "    series_gab = series_moyen[series_moyen['Gab_Code'] == gab_code]['montant_total_retrait'].tolist()\n",
    "    moyen.append(series_gab)\n",
    "\n",
    "\n",
    "print(moyen)"
   ]
  },
  {
   "cell_type": "code",
   "execution_count": 84,
   "id": "250f57f2-422c-4aff-a4e2-105b0e288161",
   "metadata": {},
   "outputs": [
    {
     "name": "stdout",
     "output_type": "stream",
     "text": [
      "[1656000, 5882000, 4678000, 3118000, 3927000, 3951000, 3876000, 4843000, 4309000, 4593000, 6543000, 12264000, 7081000, 8579000, 9211000, 9912000, 4661000, 7168000, 6015000, 7443000, 5125000, 5949000, 8087000, 8823000, 12871000, 8871000, 8443000, 8400000, 8203000, 8019000, 5486000, 9805000, 9379000, 11328000, 6779000, 8957000, 8958000, 7957000, 7949000, 7596000, 7235000, 8840000, 6637000, 6010000, 9268000, 8293000, 8866000, 6919000, 7106000, 10216000, 8706000, 9105000, 2032000]\n"
     ]
    }
   ],
   "source": [
    "#liste contenant la serie du centre de la classe moyen:\n",
    "centre_moyen=calucle_centre(moyen)\n",
    "print(centre_moyen)"
   ]
  },
  {
   "cell_type": "code",
   "execution_count": 85,
   "id": "615dadfc-9473-422a-b3e8-4264db2db6e7",
   "metadata": {},
   "outputs": [
    {
     "data": {
      "text/plain": [
       "'800186027'"
      ]
     },
     "execution_count": 85,
     "metadata": {},
     "output_type": "execute_result"
    }
   ],
   "source": [
    "# le gab centre de la classe moyen:\n",
    "centre_gab=0\n",
    "centre_moyen=calucle_centre(moyen)\n",
    "for i,serie in enumerate(data) :\n",
    "     if centre_moyen==serie :\n",
    "        centre_moyen=gabcode[i]\n",
    "        \n",
    "centre_moyen\n",
    "\n",
    "# il se situe a MOSTAGHANEM                          "
   ]
  },
  {
   "cell_type": "markdown",
   "id": "9b00fca4-24b5-46e0-ab9f-29e5c8afc0de",
   "metadata": {},
   "source": [
    "# centre de la classe elevé"
   ]
  },
  {
   "cell_type": "code",
   "execution_count": 87,
   "id": "0a852145-e938-4fcf-8102-5023f6e3ee3c",
   "metadata": {},
   "outputs": [],
   "source": [
    "# Filtrer les séries de gab pour la classe \"elevé\"\n",
    "series_elevé = final_df[final_df['classe'] == 'elevé']\n",
    "\n",
    "# Créer une liste pour stocker les séries de gab pour la classe \"elevé\"\n",
    "elevé = []\n",
    "\n",
    "# Boucler à travers les gab_codes uniques pour la classe \"elevé\"\n",
    "for gab_code in series_elevé['Gab_Code'].unique():\n",
    "    # Sélectionner les séries de gab pour ce gab_code\n",
    "    series_gab = series_elevé[series_elevé['Gab_Code'] == gab_code]['montant_total_retrait'].tolist()\n",
    "    elevé.append(series_gab)\n",
    "\n",
    "print(elevé)\n"
   ]
  },
  {
   "cell_type": "code",
   "execution_count": 88,
   "id": "1861dd3c-beac-4a12-a621-09de4287bf04",
   "metadata": {},
   "outputs": [
    {
     "name": "stdout",
     "output_type": "stream",
     "text": [
      "[3558000, 13336000, 11648000, 12386000, 10884000, 9671000, 11359000, 12388000, 9193000, 14282000, 10848000, 11623000, 7640000, 8115000, 13036000, 15384000, 8247000, 11067000, 9056000, 14337000, 15567000, 15117000, 21020000, 13156000, 27173000, 13583000, 10860000, 11012000, 23751000, 19985000, 12750000, 13991000, 15644000, 23203000, 12819000, 16963000, 14957000, 21235000, 15345000, 10460000, 14502000, 9512000, 7365000, 10897000, 14584000, 12895000, 16982000, 14565000, 13751000, 11402000, 19000000, 15772000, 4793000]\n"
     ]
    }
   ],
   "source": [
    "#liste contenant la serie du centre de la classe elevé:\n",
    "centre_elevé=calucle_centre(elevé)\n",
    "print(centre_elevé)"
   ]
  },
  {
   "cell_type": "code",
   "execution_count": 89,
   "id": "89109f7b-507b-4a8c-be57-8d45e7eda5b6",
   "metadata": {},
   "outputs": [
    {
     "data": {
      "text/plain": [
       "'800031027'"
      ]
     },
     "execution_count": 89,
     "metadata": {},
     "output_type": "execute_result"
    }
   ],
   "source": [
    "# le gab centre de la classe elevé:\n",
    "centre_gab=0\n",
    "centre_elevé=calucle_centre(elevé)\n",
    "for i,serie in enumerate(data) :\n",
    "     if centre_elevé==serie :\n",
    "        centre_elevé=gabcode[i]\n",
    "        \n",
    "centre_elevé\n",
    "\n",
    "# gab_agence : les sources"
   ]
  },
  {
   "cell_type": "markdown",
   "id": "154b061e-932e-4fae-a9de-381b458d65c9",
   "metadata": {},
   "source": [
    "# centre de la classe 'tres_elevé'"
   ]
  },
  {
   "cell_type": "code",
   "execution_count": 91,
   "id": "837e84e4-ca2d-48be-a955-b2a78267a1e8",
   "metadata": {},
   "outputs": [],
   "source": [
    "# Filtrer les séries de gab pour la classe \"tres_elevé\"\n",
    "series_tres_elevé = final_df[final_df['classe'] == 'tres_elevé']\n",
    "\n",
    "# Créer une liste pour stocker les séries de gab pour la classe \"tres_elevé\"\n",
    "tres_elevé = []\n",
    "\n",
    "# Boucler à travers les gab_codes uniques pour la classe \"tres_elevé\"\n",
    "for gab_code in series_tres_elevé['Gab_Code'].unique():\n",
    "    # Sélectionner les séries de gab pour ce gab_code\n",
    "    series_gab = series_tres_elevé[series_tres_elevé['Gab_Code'] == gab_code]['montant_total_retrait'].tolist()\n",
    "    tres_elevé.append(series_gab)\n",
    "\n",
    "print(tres_elevé)"
   ]
  },
  {
   "cell_type": "code",
   "execution_count": 92,
   "id": "26c4dc04-6d66-40c2-9378-e36e5b827952",
   "metadata": {},
   "outputs": [
    {
     "name": "stdout",
     "output_type": "stream",
     "text": [
      "[6870000, 19778000, 12103000, 16997000, 15969000, 18818000, 18563000, 16467000, 17935000, 21017000, 19299000, 24462000, 15146000, 19060000, 19229000, 24248000, 15262000, 18131000, 18795000, 22000000, 21447000, 14482000, 14149000, 12660000, 26878000, 19859000, 20782000, 19820000, 28196000, 21446000, 22223000, 23660000, 22787000, 22409000, 16677000, 22351000, 25235000, 25433000, 17514000, 17821000, 19583000, 22009000, 21779000, 23838000, 24531000, 19996000, 23051000, 22602000, 20647000, 22008000, 22779000, 23253000, 6537000]\n"
     ]
    }
   ],
   "source": [
    "#liste contenant la serie du centre de la classe tres_elevé:\n",
    "centre_tres_elevé=calucle_centre(tres_elevé)\n",
    "print(centre_tres_elevé)"
   ]
  },
  {
   "cell_type": "code",
   "execution_count": 93,
   "id": "abe33a72-e218-4ae7-807d-a919725202f3",
   "metadata": {},
   "outputs": [
    {
     "data": {
      "text/plain": [
       "'800222027'"
      ]
     },
     "execution_count": 93,
     "metadata": {},
     "output_type": "execute_result"
    }
   ],
   "source": [
    "# le gab centre de la classe tres_elevé:\n",
    "centre_gab=0\n",
    "centre_tres_elevé=calucle_centre(tres_elevé)\n",
    "for i,serie in enumerate(data) :\n",
    "     if centre_tres_elevé==serie :\n",
    "        centre_tres_elevé=gabcode[i]\n",
    "        \n",
    "centre_tres_elevé\n",
    "\n",
    "# il se situe a draria "
   ]
  },
  {
   "cell_type": "code",
   "execution_count": null,
   "id": "266c71f4-af7b-4d95-bb67-d6f9cca40bc2",
   "metadata": {},
   "outputs": [],
   "source": []
  }
 ],
 "metadata": {
  "kernelspec": {
   "display_name": "Python 3 (ipykernel)",
   "language": "python",
   "name": "python3"
  },
  "language_info": {
   "codemirror_mode": {
    "name": "ipython",
    "version": 3
   },
   "file_extension": ".py",
   "mimetype": "text/x-python",
   "name": "python",
   "nbconvert_exporter": "python",
   "pygments_lexer": "ipython3",
   "version": "3.9.7"
  }
 },
 "nbformat": 4,
 "nbformat_minor": 5
}
